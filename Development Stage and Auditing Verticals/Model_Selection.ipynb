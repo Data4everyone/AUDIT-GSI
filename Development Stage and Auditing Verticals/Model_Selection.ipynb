{
  "cells": [
    {
      "cell_type": "markdown",
      "metadata": {
        "id": "TyphMUwQESes"
      },
      "source": [
        "#### Kaggle Dataset\n",
        "\n",
        " \"https://www.kaggle.com/datasets/danofer/compass/data\""
      ]
    },
    {
      "cell_type": "markdown",
      "metadata": {
        "id": "OcwISF6COkvi"
      },
      "source": [
        "### Tools\n",
        "\n",
        "This notebook is self-contained, but it requires some python libraries. To install them, simply run the following line:"
      ]
    },
    {
      "cell_type": "code",
      "execution_count": 1,
      "metadata": {
        "id": "1QwbIDMOObKq"
      },
      "outputs": [],
      "source": [
        "# Install a pip package in the current Jupyter kernel.\n",
        "import sys\n",
        "import site\n",
        "import os\n",
        "#usersite = site.getusersitepackages()\n",
        "#if usersite not in sys.path:\n",
        "#    sys.path.append(usersite)\n",
        "#!{sys.executable} -m pip install --user -r requirements.txt"
      ]
    },
    {
      "cell_type": "code",
      "execution_count": 2,
      "metadata": {
        "colab": {
          "base_uri": "https://localhost:8080/"
        },
        "id": "Id6TtyQLIfLw",
        "outputId": "0ad32549-df78-40a7-b74b-0e2ae90751c8"
      },
      "outputs": [
        {
          "name": "stdout",
          "output_type": "stream",
          "text": [
            "Requirement already satisfied: shap in c:\\users\\marco\\appdata\\local\\programs\\python\\python310\\lib\\site-packages (0.41.0)\n",
            "Requirement already satisfied: numpy in c:\\users\\marco\\appdata\\local\\programs\\python\\python310\\lib\\site-packages (from shap) (1.22.4)\n",
            "Requirement already satisfied: scipy in c:\\users\\marco\\appdata\\local\\programs\\python\\python310\\lib\\site-packages (from shap) (1.8.1)\n",
            "Requirement already satisfied: scikit-learn in c:\\users\\marco\\appdata\\local\\programs\\python\\python310\\lib\\site-packages (from shap) (1.1.1)\n",
            "Requirement already satisfied: pandas in c:\\users\\marco\\appdata\\local\\programs\\python\\python310\\lib\\site-packages (from shap) (2.0.3)\n",
            "Requirement already satisfied: tqdm>4.25.0 in c:\\users\\marco\\appdata\\local\\programs\\python\\python310\\lib\\site-packages (from shap) (4.64.0)\n",
            "Requirement already satisfied: packaging>20.9 in c:\\users\\marco\\appdata\\local\\programs\\python\\python310\\lib\\site-packages (from shap) (21.3)\n",
            "Requirement already satisfied: slicer==0.0.7 in c:\\users\\marco\\appdata\\local\\programs\\python\\python310\\lib\\site-packages (from shap) (0.0.7)\n",
            "Requirement already satisfied: numba in c:\\users\\marco\\appdata\\local\\programs\\python\\python310\\lib\\site-packages (from shap) (0.55.2)\n",
            "Requirement already satisfied: cloudpickle in c:\\users\\marco\\appdata\\local\\programs\\python\\python310\\lib\\site-packages (from shap) (2.1.0)\n",
            "Requirement already satisfied: pyparsing!=3.0.5,>=2.0.2 in c:\\users\\marco\\appdata\\local\\programs\\python\\python310\\lib\\site-packages (from packaging>20.9->shap) (3.0.9)\n",
            "Requirement already satisfied: colorama in c:\\users\\marco\\appdata\\local\\programs\\python\\python310\\lib\\site-packages (from tqdm>4.25.0->shap) (0.4.5)\n",
            "Requirement already satisfied: llvmlite<0.39,>=0.38.0rc1 in c:\\users\\marco\\appdata\\local\\programs\\python\\python310\\lib\\site-packages (from numba->shap) (0.38.1)\n",
            "Requirement already satisfied: setuptools in c:\\users\\marco\\appdata\\local\\programs\\python\\python310\\lib\\site-packages (from numba->shap) (62.6.0)\n",
            "Requirement already satisfied: python-dateutil>=2.8.2 in c:\\users\\marco\\appdata\\local\\programs\\python\\python310\\lib\\site-packages (from pandas->shap) (2.8.2)\n",
            "Requirement already satisfied: pytz>=2020.1 in c:\\users\\marco\\appdata\\local\\programs\\python\\python310\\lib\\site-packages (from pandas->shap) (2022.1)\n",
            "Requirement already satisfied: tzdata>=2022.1 in c:\\users\\marco\\appdata\\local\\programs\\python\\python310\\lib\\site-packages (from pandas->shap) (2023.3)\n",
            "Requirement already satisfied: joblib>=1.0.0 in c:\\users\\marco\\appdata\\local\\programs\\python\\python310\\lib\\site-packages (from scikit-learn->shap) (1.3.1)\n",
            "Requirement already satisfied: threadpoolctl>=2.0.0 in c:\\users\\marco\\appdata\\local\\programs\\python\\python310\\lib\\site-packages (from scikit-learn->shap) (3.1.0)\n",
            "Requirement already satisfied: six>=1.5 in c:\\users\\marco\\appdata\\local\\programs\\python\\python310\\lib\\site-packages (from python-dateutil>=2.8.2->pandas->shap) (1.16.0)\n",
            "Note: you may need to restart the kernel to use updated packages.\n"
          ]
        }
      ],
      "source": [
        "pip install shap"
      ]
    },
    {
      "cell_type": "code",
      "execution_count": 4,
      "metadata": {},
      "outputs": [
        {
          "name": "stdout",
          "output_type": "stream",
          "text": [
            "Collecting lime\n",
            "  Downloading lime-0.2.0.1.tar.gz (275 kB)\n",
            "     -------------------------------------- 275.7/275.7 kB 8.6 MB/s eta 0:00:00\n",
            "  Preparing metadata (setup.py): started\n",
            "  Preparing metadata (setup.py): finished with status 'done'\n",
            "Requirement already satisfied: matplotlib in c:\\users\\marco\\appdata\\local\\programs\\python\\python310\\lib\\site-packages (from lime) (3.5.2)\n",
            "Requirement already satisfied: numpy in c:\\users\\marco\\appdata\\local\\programs\\python\\python310\\lib\\site-packages (from lime) (1.22.4)\n",
            "Requirement already satisfied: scipy in c:\\users\\marco\\appdata\\local\\programs\\python\\python310\\lib\\site-packages (from lime) (1.8.1)\n",
            "Requirement already satisfied: tqdm in c:\\users\\marco\\appdata\\local\\programs\\python\\python310\\lib\\site-packages (from lime) (4.64.0)\n",
            "Requirement already satisfied: scikit-learn>=0.18 in c:\\users\\marco\\appdata\\local\\programs\\python\\python310\\lib\\site-packages (from lime) (1.1.1)\n",
            "Collecting scikit-image>=0.12 (from lime)\n",
            "  Downloading scikit_image-0.22.0-cp310-cp310-win_amd64.whl.metadata (13 kB)\n",
            "Collecting networkx>=2.8 (from scikit-image>=0.12->lime)\n",
            "  Downloading networkx-3.2.1-py3-none-any.whl.metadata (5.2 kB)\n",
            "Requirement already satisfied: pillow>=9.0.1 in c:\\users\\marco\\appdata\\local\\programs\\python\\python310\\lib\\site-packages (from scikit-image>=0.12->lime) (9.2.0)\n",
            "Collecting imageio>=2.27 (from scikit-image>=0.12->lime)\n",
            "  Downloading imageio-2.33.1-py3-none-any.whl.metadata (4.9 kB)\n",
            "Collecting tifffile>=2022.8.12 (from scikit-image>=0.12->lime)\n",
            "  Downloading tifffile-2023.12.9-py3-none-any.whl.metadata (31 kB)\n",
            "Requirement already satisfied: packaging>=21 in c:\\users\\marco\\appdata\\local\\programs\\python\\python310\\lib\\site-packages (from scikit-image>=0.12->lime) (21.3)\n",
            "Collecting lazy_loader>=0.3 (from scikit-image>=0.12->lime)\n",
            "  Downloading lazy_loader-0.3-py3-none-any.whl.metadata (4.3 kB)\n",
            "Requirement already satisfied: joblib>=1.0.0 in c:\\users\\marco\\appdata\\local\\programs\\python\\python310\\lib\\site-packages (from scikit-learn>=0.18->lime) (1.3.1)\n",
            "Requirement already satisfied: threadpoolctl>=2.0.0 in c:\\users\\marco\\appdata\\local\\programs\\python\\python310\\lib\\site-packages (from scikit-learn>=0.18->lime) (3.1.0)\n",
            "Requirement already satisfied: cycler>=0.10 in c:\\users\\marco\\appdata\\local\\programs\\python\\python310\\lib\\site-packages (from matplotlib->lime) (0.11.0)\n",
            "Requirement already satisfied: fonttools>=4.22.0 in c:\\users\\marco\\appdata\\local\\programs\\python\\python310\\lib\\site-packages (from matplotlib->lime) (4.33.3)\n",
            "Requirement already satisfied: kiwisolver>=1.0.1 in c:\\users\\marco\\appdata\\local\\programs\\python\\python310\\lib\\site-packages (from matplotlib->lime) (1.4.3)\n",
            "Requirement already satisfied: pyparsing>=2.2.1 in c:\\users\\marco\\appdata\\local\\programs\\python\\python310\\lib\\site-packages (from matplotlib->lime) (3.0.9)\n",
            "Requirement already satisfied: python-dateutil>=2.7 in c:\\users\\marco\\appdata\\local\\programs\\python\\python310\\lib\\site-packages (from matplotlib->lime) (2.8.2)\n",
            "Requirement already satisfied: colorama in c:\\users\\marco\\appdata\\local\\programs\\python\\python310\\lib\\site-packages (from tqdm->lime) (0.4.5)\n",
            "Requirement already satisfied: six>=1.5 in c:\\users\\marco\\appdata\\local\\programs\\python\\python310\\lib\\site-packages (from python-dateutil>=2.7->matplotlib->lime) (1.16.0)\n",
            "Downloading scikit_image-0.22.0-cp310-cp310-win_amd64.whl (24.5 MB)\n",
            "   ---------------------------------------- 24.5/24.5 MB 40.9 MB/s eta 0:00:00\n",
            "Downloading imageio-2.33.1-py3-none-any.whl (313 kB)\n",
            "   --------------------------------------- 313.3/313.3 kB 18.9 MB/s eta 0:00:00\n",
            "Downloading lazy_loader-0.3-py3-none-any.whl (9.1 kB)\n",
            "Downloading networkx-3.2.1-py3-none-any.whl (1.6 MB)\n",
            "   ---------------------------------------- 1.6/1.6 MB 34.8 MB/s eta 0:00:00\n",
            "Downloading tifffile-2023.12.9-py3-none-any.whl (223 kB)\n",
            "   --------------------------------------- 223.6/223.6 kB 14.2 MB/s eta 0:00:00\n",
            "Building wheels for collected packages: lime\n",
            "  Building wheel for lime (setup.py): started\n",
            "  Building wheel for lime (setup.py): finished with status 'done'\n",
            "  Created wheel for lime: filename=lime-0.2.0.1-py3-none-any.whl size=283839 sha256=bd34b2442c86c7d58544b913bd60de4fa0e88b473654af704a8d377b313b7d5a\n",
            "  Stored in directory: c:\\users\\marco\\appdata\\local\\pip\\cache\\wheels\\fd\\a2\\af\\9ac0a1a85a27f314a06b39e1f492bee1547d52549a4606ed89\n",
            "Successfully built lime\n",
            "Installing collected packages: tifffile, networkx, lazy_loader, imageio, scikit-image, lime\n",
            "Successfully installed imageio-2.33.1 lazy_loader-0.3 lime-0.2.0.1 networkx-3.2.1 scikit-image-0.22.0 tifffile-2023.12.9\n",
            "Note: you may need to restart the kernel to use updated packages.\n"
          ]
        }
      ],
      "source": [
        "pip install lime "
      ]
    },
    {
      "cell_type": "markdown",
      "metadata": {
        "id": "aAx9NbE_On0a"
      },
      "source": [
        "# Libraries"
      ]
    },
    {
      "cell_type": "code",
      "execution_count": 5,
      "metadata": {
        "id": "ZwxDUfOpjf-t"
      },
      "outputs": [],
      "source": [
        "import numpy as np\n",
        "import pandas as pd\n",
        "import seaborn as sns\n",
        "import matplotlib.pyplot as plt\n",
        "import shap\n",
        "import gc\n",
        "from lime import lime_tabular\n",
        "from sklearn.model_selection import train_test_split\n",
        "from sklearn.tree import DecisionTreeClassifier\n",
        "from sklearn.metrics import accuracy_score, classification_report, confusion_matrix\n",
        "sns.set_theme(color_codes=True)\n",
        "pd.set_option('display.max_columns', None)\n",
        "import warnings\n",
        "warnings.filterwarnings(action='ignore')"
      ]
    },
    {
      "cell_type": "markdown",
      "metadata": {
        "id": "B9esNBpmOwBA"
      },
      "source": [
        "# Model Selection"
      ]
    },
    {
      "cell_type": "code",
      "execution_count": 6,
      "metadata": {
        "colab": {
          "base_uri": "https://localhost:8080/",
          "height": 348
        },
        "id": "2ts37GUljsBF",
        "outputId": "ced39cae-b510-4c35-c242-e6d780919766"
      },
      "outputs": [
        {
          "data": {
            "text/html": [
              "<div>\n",
              "<style scoped>\n",
              "    .dataframe tbody tr th:only-of-type {\n",
              "        vertical-align: middle;\n",
              "    }\n",
              "\n",
              "    .dataframe tbody tr th {\n",
              "        vertical-align: top;\n",
              "    }\n",
              "\n",
              "    .dataframe thead th {\n",
              "        text-align: right;\n",
              "    }\n",
              "</style>\n",
              "<table border=\"1\" class=\"dataframe\">\n",
              "  <thead>\n",
              "    <tr style=\"text-align: right;\">\n",
              "      <th></th>\n",
              "      <th>id</th>\n",
              "      <th>name</th>\n",
              "      <th>first</th>\n",
              "      <th>last</th>\n",
              "      <th>compas_screening_date</th>\n",
              "      <th>sex</th>\n",
              "      <th>dob</th>\n",
              "      <th>age</th>\n",
              "      <th>age_cat</th>\n",
              "      <th>race</th>\n",
              "      <th>juv_fel_count</th>\n",
              "      <th>decile_score</th>\n",
              "      <th>juv_misd_count</th>\n",
              "      <th>juv_other_count</th>\n",
              "      <th>priors_count</th>\n",
              "      <th>days_b_screening_arrest</th>\n",
              "      <th>c_jail_in</th>\n",
              "      <th>c_jail_out</th>\n",
              "      <th>c_case_number</th>\n",
              "      <th>c_offense_date</th>\n",
              "      <th>c_arrest_date</th>\n",
              "      <th>c_days_from_compas</th>\n",
              "      <th>c_charge_degree</th>\n",
              "      <th>c_charge_desc</th>\n",
              "      <th>is_recid</th>\n",
              "      <th>r_case_number</th>\n",
              "      <th>r_charge_degree</th>\n",
              "      <th>r_days_from_arrest</th>\n",
              "      <th>r_offense_date</th>\n",
              "      <th>r_charge_desc</th>\n",
              "      <th>r_jail_in</th>\n",
              "      <th>r_jail_out</th>\n",
              "      <th>violent_recid</th>\n",
              "      <th>is_violent_recid</th>\n",
              "      <th>vr_case_number</th>\n",
              "      <th>vr_charge_degree</th>\n",
              "      <th>vr_offense_date</th>\n",
              "      <th>vr_charge_desc</th>\n",
              "      <th>type_of_assessment</th>\n",
              "      <th>decile_score.1</th>\n",
              "      <th>score_text</th>\n",
              "      <th>screening_date</th>\n",
              "      <th>v_type_of_assessment</th>\n",
              "      <th>v_decile_score</th>\n",
              "      <th>v_score_text</th>\n",
              "      <th>v_screening_date</th>\n",
              "      <th>in_custody</th>\n",
              "      <th>out_custody</th>\n",
              "      <th>priors_count.1</th>\n",
              "      <th>start</th>\n",
              "      <th>end</th>\n",
              "      <th>event</th>\n",
              "    </tr>\n",
              "  </thead>\n",
              "  <tbody>\n",
              "    <tr>\n",
              "      <th>0</th>\n",
              "      <td>1.0</td>\n",
              "      <td>miguel hernandez</td>\n",
              "      <td>miguel</td>\n",
              "      <td>hernandez</td>\n",
              "      <td>14/08/2013</td>\n",
              "      <td>Male</td>\n",
              "      <td>18/04/1947</td>\n",
              "      <td>69</td>\n",
              "      <td>Greater than 45</td>\n",
              "      <td>Other</td>\n",
              "      <td>0</td>\n",
              "      <td>1</td>\n",
              "      <td>0</td>\n",
              "      <td>0</td>\n",
              "      <td>0</td>\n",
              "      <td>-1.0</td>\n",
              "      <td>13/08/2013 6:03</td>\n",
              "      <td>14/08/2013 5:41</td>\n",
              "      <td>13011352CF10A</td>\n",
              "      <td>13/08/2013</td>\n",
              "      <td>NaN</td>\n",
              "      <td>1.0</td>\n",
              "      <td>(F3)</td>\n",
              "      <td>Aggravated Assault w/Firearm</td>\n",
              "      <td>0</td>\n",
              "      <td>NaN</td>\n",
              "      <td>NaN</td>\n",
              "      <td>NaN</td>\n",
              "      <td>NaN</td>\n",
              "      <td>NaN</td>\n",
              "      <td>NaN</td>\n",
              "      <td>NaN</td>\n",
              "      <td>NaN</td>\n",
              "      <td>0</td>\n",
              "      <td>NaN</td>\n",
              "      <td>NaN</td>\n",
              "      <td>NaN</td>\n",
              "      <td>NaN</td>\n",
              "      <td>Risk of Recidivism</td>\n",
              "      <td>1</td>\n",
              "      <td>Low</td>\n",
              "      <td>14/08/2013</td>\n",
              "      <td>Risk of Violence</td>\n",
              "      <td>1</td>\n",
              "      <td>Low</td>\n",
              "      <td>14/08/2013</td>\n",
              "      <td>07/07/2014</td>\n",
              "      <td>14/07/2014</td>\n",
              "      <td>0</td>\n",
              "      <td>0</td>\n",
              "      <td>327</td>\n",
              "      <td>0</td>\n",
              "    </tr>\n",
              "    <tr>\n",
              "      <th>1</th>\n",
              "      <td>2.0</td>\n",
              "      <td>miguel hernandez</td>\n",
              "      <td>miguel</td>\n",
              "      <td>hernandez</td>\n",
              "      <td>14/08/2013</td>\n",
              "      <td>Male</td>\n",
              "      <td>18/04/1947</td>\n",
              "      <td>69</td>\n",
              "      <td>Greater than 45</td>\n",
              "      <td>Other</td>\n",
              "      <td>0</td>\n",
              "      <td>1</td>\n",
              "      <td>0</td>\n",
              "      <td>0</td>\n",
              "      <td>0</td>\n",
              "      <td>-1.0</td>\n",
              "      <td>13/08/2013 6:03</td>\n",
              "      <td>14/08/2013 5:41</td>\n",
              "      <td>13011352CF10A</td>\n",
              "      <td>13/08/2013</td>\n",
              "      <td>NaN</td>\n",
              "      <td>1.0</td>\n",
              "      <td>(F3)</td>\n",
              "      <td>Aggravated Assault w/Firearm</td>\n",
              "      <td>0</td>\n",
              "      <td>NaN</td>\n",
              "      <td>NaN</td>\n",
              "      <td>NaN</td>\n",
              "      <td>NaN</td>\n",
              "      <td>NaN</td>\n",
              "      <td>NaN</td>\n",
              "      <td>NaN</td>\n",
              "      <td>NaN</td>\n",
              "      <td>0</td>\n",
              "      <td>NaN</td>\n",
              "      <td>NaN</td>\n",
              "      <td>NaN</td>\n",
              "      <td>NaN</td>\n",
              "      <td>Risk of Recidivism</td>\n",
              "      <td>1</td>\n",
              "      <td>Low</td>\n",
              "      <td>14/08/2013</td>\n",
              "      <td>Risk of Violence</td>\n",
              "      <td>1</td>\n",
              "      <td>Low</td>\n",
              "      <td>14/08/2013</td>\n",
              "      <td>07/07/2014</td>\n",
              "      <td>14/07/2014</td>\n",
              "      <td>0</td>\n",
              "      <td>334</td>\n",
              "      <td>961</td>\n",
              "      <td>0</td>\n",
              "    </tr>\n",
              "    <tr>\n",
              "      <th>2</th>\n",
              "      <td>3.0</td>\n",
              "      <td>michael ryan</td>\n",
              "      <td>michael</td>\n",
              "      <td>ryan</td>\n",
              "      <td>31/12/2014</td>\n",
              "      <td>Male</td>\n",
              "      <td>06/02/1985</td>\n",
              "      <td>31</td>\n",
              "      <td>25 - 45</td>\n",
              "      <td>Caucasian</td>\n",
              "      <td>0</td>\n",
              "      <td>5</td>\n",
              "      <td>0</td>\n",
              "      <td>0</td>\n",
              "      <td>0</td>\n",
              "      <td>NaN</td>\n",
              "      <td>NaN</td>\n",
              "      <td>NaN</td>\n",
              "      <td>NaN</td>\n",
              "      <td>NaN</td>\n",
              "      <td>NaN</td>\n",
              "      <td>NaN</td>\n",
              "      <td>NaN</td>\n",
              "      <td>NaN</td>\n",
              "      <td>-1</td>\n",
              "      <td>NaN</td>\n",
              "      <td>NaN</td>\n",
              "      <td>NaN</td>\n",
              "      <td>NaN</td>\n",
              "      <td>NaN</td>\n",
              "      <td>NaN</td>\n",
              "      <td>NaN</td>\n",
              "      <td>NaN</td>\n",
              "      <td>0</td>\n",
              "      <td>NaN</td>\n",
              "      <td>NaN</td>\n",
              "      <td>NaN</td>\n",
              "      <td>NaN</td>\n",
              "      <td>Risk of Recidivism</td>\n",
              "      <td>5</td>\n",
              "      <td>Medium</td>\n",
              "      <td>31/12/2014</td>\n",
              "      <td>Risk of Violence</td>\n",
              "      <td>2</td>\n",
              "      <td>Low</td>\n",
              "      <td>31/12/2014</td>\n",
              "      <td>30/12/2014</td>\n",
              "      <td>03/01/2015</td>\n",
              "      <td>0</td>\n",
              "      <td>3</td>\n",
              "      <td>457</td>\n",
              "      <td>0</td>\n",
              "    </tr>\n",
              "    <tr>\n",
              "      <th>3</th>\n",
              "      <td>4.0</td>\n",
              "      <td>kevon dixon</td>\n",
              "      <td>kevon</td>\n",
              "      <td>dixon</td>\n",
              "      <td>27/01/2013</td>\n",
              "      <td>Male</td>\n",
              "      <td>22/01/1982</td>\n",
              "      <td>34</td>\n",
              "      <td>25 - 45</td>\n",
              "      <td>African-American</td>\n",
              "      <td>0</td>\n",
              "      <td>3</td>\n",
              "      <td>0</td>\n",
              "      <td>0</td>\n",
              "      <td>0</td>\n",
              "      <td>-1.0</td>\n",
              "      <td>26/01/2013 3:45</td>\n",
              "      <td>05/02/2013 5:36</td>\n",
              "      <td>13001275CF10A</td>\n",
              "      <td>26/01/2013</td>\n",
              "      <td>NaN</td>\n",
              "      <td>1.0</td>\n",
              "      <td>(F3)</td>\n",
              "      <td>Felony Battery w/Prior Convict</td>\n",
              "      <td>1</td>\n",
              "      <td>13009779CF10A</td>\n",
              "      <td>(F3)</td>\n",
              "      <td>NaN</td>\n",
              "      <td>05/07/2013</td>\n",
              "      <td>Felony Battery (Dom Strang)</td>\n",
              "      <td>NaN</td>\n",
              "      <td>NaN</td>\n",
              "      <td>NaN</td>\n",
              "      <td>1</td>\n",
              "      <td>13009779CF10A</td>\n",
              "      <td>(F3)</td>\n",
              "      <td>05/07/2013</td>\n",
              "      <td>Felony Battery (Dom Strang)</td>\n",
              "      <td>Risk of Recidivism</td>\n",
              "      <td>3</td>\n",
              "      <td>Low</td>\n",
              "      <td>27/01/2013</td>\n",
              "      <td>Risk of Violence</td>\n",
              "      <td>1</td>\n",
              "      <td>Low</td>\n",
              "      <td>27/01/2013</td>\n",
              "      <td>26/01/2013</td>\n",
              "      <td>05/02/2013</td>\n",
              "      <td>0</td>\n",
              "      <td>9</td>\n",
              "      <td>159</td>\n",
              "      <td>1</td>\n",
              "    </tr>\n",
              "    <tr>\n",
              "      <th>4</th>\n",
              "      <td>5.0</td>\n",
              "      <td>ed philo</td>\n",
              "      <td>ed</td>\n",
              "      <td>philo</td>\n",
              "      <td>14/04/2013</td>\n",
              "      <td>Male</td>\n",
              "      <td>14/05/1991</td>\n",
              "      <td>24</td>\n",
              "      <td>Less than 25</td>\n",
              "      <td>African-American</td>\n",
              "      <td>0</td>\n",
              "      <td>4</td>\n",
              "      <td>0</td>\n",
              "      <td>1</td>\n",
              "      <td>4</td>\n",
              "      <td>-1.0</td>\n",
              "      <td>13/04/2013 4:58</td>\n",
              "      <td>14/04/2013 7:02</td>\n",
              "      <td>13005330CF10A</td>\n",
              "      <td>13/04/2013</td>\n",
              "      <td>NaN</td>\n",
              "      <td>1.0</td>\n",
              "      <td>(F3)</td>\n",
              "      <td>Possession of Cocaine</td>\n",
              "      <td>1</td>\n",
              "      <td>13011511MM10A</td>\n",
              "      <td>(M1)</td>\n",
              "      <td>0.0</td>\n",
              "      <td>16/06/2013</td>\n",
              "      <td>Driving Under The Influence</td>\n",
              "      <td>16/06/2013</td>\n",
              "      <td>16/06/2013</td>\n",
              "      <td>NaN</td>\n",
              "      <td>0</td>\n",
              "      <td>NaN</td>\n",
              "      <td>NaN</td>\n",
              "      <td>NaN</td>\n",
              "      <td>NaN</td>\n",
              "      <td>Risk of Recidivism</td>\n",
              "      <td>4</td>\n",
              "      <td>Low</td>\n",
              "      <td>14/04/2013</td>\n",
              "      <td>Risk of Violence</td>\n",
              "      <td>3</td>\n",
              "      <td>Low</td>\n",
              "      <td>14/04/2013</td>\n",
              "      <td>16/06/2013</td>\n",
              "      <td>16/06/2013</td>\n",
              "      <td>4</td>\n",
              "      <td>0</td>\n",
              "      <td>63</td>\n",
              "      <td>0</td>\n",
              "    </tr>\n",
              "  </tbody>\n",
              "</table>\n",
              "</div>"
            ],
            "text/plain": [
              "    id              name    first       last compas_screening_date   sex  \\\n",
              "0  1.0  miguel hernandez   miguel  hernandez            14/08/2013  Male   \n",
              "1  2.0  miguel hernandez   miguel  hernandez            14/08/2013  Male   \n",
              "2  3.0      michael ryan  michael       ryan            31/12/2014  Male   \n",
              "3  4.0       kevon dixon    kevon      dixon            27/01/2013  Male   \n",
              "4  5.0          ed philo       ed      philo            14/04/2013  Male   \n",
              "\n",
              "          dob  age          age_cat              race  juv_fel_count  \\\n",
              "0  18/04/1947   69  Greater than 45             Other              0   \n",
              "1  18/04/1947   69  Greater than 45             Other              0   \n",
              "2  06/02/1985   31          25 - 45         Caucasian              0   \n",
              "3  22/01/1982   34          25 - 45  African-American              0   \n",
              "4  14/05/1991   24     Less than 25  African-American              0   \n",
              "\n",
              "   decile_score  juv_misd_count  juv_other_count  priors_count  \\\n",
              "0             1               0                0             0   \n",
              "1             1               0                0             0   \n",
              "2             5               0                0             0   \n",
              "3             3               0                0             0   \n",
              "4             4               0                1             4   \n",
              "\n",
              "   days_b_screening_arrest        c_jail_in       c_jail_out  c_case_number  \\\n",
              "0                     -1.0  13/08/2013 6:03  14/08/2013 5:41  13011352CF10A   \n",
              "1                     -1.0  13/08/2013 6:03  14/08/2013 5:41  13011352CF10A   \n",
              "2                      NaN              NaN              NaN            NaN   \n",
              "3                     -1.0  26/01/2013 3:45  05/02/2013 5:36  13001275CF10A   \n",
              "4                     -1.0  13/04/2013 4:58  14/04/2013 7:02  13005330CF10A   \n",
              "\n",
              "  c_offense_date c_arrest_date  c_days_from_compas c_charge_degree  \\\n",
              "0     13/08/2013           NaN                 1.0            (F3)   \n",
              "1     13/08/2013           NaN                 1.0            (F3)   \n",
              "2            NaN           NaN                 NaN             NaN   \n",
              "3     26/01/2013           NaN                 1.0            (F3)   \n",
              "4     13/04/2013           NaN                 1.0            (F3)   \n",
              "\n",
              "                    c_charge_desc  is_recid  r_case_number r_charge_degree  \\\n",
              "0    Aggravated Assault w/Firearm         0            NaN             NaN   \n",
              "1    Aggravated Assault w/Firearm         0            NaN             NaN   \n",
              "2                             NaN        -1            NaN             NaN   \n",
              "3  Felony Battery w/Prior Convict         1  13009779CF10A            (F3)   \n",
              "4           Possession of Cocaine         1  13011511MM10A            (M1)   \n",
              "\n",
              "   r_days_from_arrest r_offense_date                r_charge_desc   r_jail_in  \\\n",
              "0                 NaN            NaN                          NaN         NaN   \n",
              "1                 NaN            NaN                          NaN         NaN   \n",
              "2                 NaN            NaN                          NaN         NaN   \n",
              "3                 NaN     05/07/2013  Felony Battery (Dom Strang)         NaN   \n",
              "4                 0.0     16/06/2013  Driving Under The Influence  16/06/2013   \n",
              "\n",
              "   r_jail_out  violent_recid  is_violent_recid vr_case_number  \\\n",
              "0         NaN            NaN                 0            NaN   \n",
              "1         NaN            NaN                 0            NaN   \n",
              "2         NaN            NaN                 0            NaN   \n",
              "3         NaN            NaN                 1  13009779CF10A   \n",
              "4  16/06/2013            NaN                 0            NaN   \n",
              "\n",
              "  vr_charge_degree vr_offense_date               vr_charge_desc  \\\n",
              "0              NaN             NaN                          NaN   \n",
              "1              NaN             NaN                          NaN   \n",
              "2              NaN             NaN                          NaN   \n",
              "3             (F3)      05/07/2013  Felony Battery (Dom Strang)   \n",
              "4              NaN             NaN                          NaN   \n",
              "\n",
              "   type_of_assessment  decile_score.1 score_text screening_date  \\\n",
              "0  Risk of Recidivism               1        Low     14/08/2013   \n",
              "1  Risk of Recidivism               1        Low     14/08/2013   \n",
              "2  Risk of Recidivism               5     Medium     31/12/2014   \n",
              "3  Risk of Recidivism               3        Low     27/01/2013   \n",
              "4  Risk of Recidivism               4        Low     14/04/2013   \n",
              "\n",
              "  v_type_of_assessment  v_decile_score v_score_text v_screening_date  \\\n",
              "0     Risk of Violence               1          Low       14/08/2013   \n",
              "1     Risk of Violence               1          Low       14/08/2013   \n",
              "2     Risk of Violence               2          Low       31/12/2014   \n",
              "3     Risk of Violence               1          Low       27/01/2013   \n",
              "4     Risk of Violence               3          Low       14/04/2013   \n",
              "\n",
              "   in_custody out_custody  priors_count.1  start  end  event  \n",
              "0  07/07/2014  14/07/2014               0      0  327      0  \n",
              "1  07/07/2014  14/07/2014               0    334  961      0  \n",
              "2  30/12/2014  03/01/2015               0      3  457      0  \n",
              "3  26/01/2013  05/02/2013               0      9  159      1  \n",
              "4  16/06/2013  16/06/2013               4      0   63      0  "
            ]
          },
          "execution_count": 6,
          "metadata": {},
          "output_type": "execute_result"
        }
      ],
      "source": [
        "df = pd.read_csv('cox-violent-parsed.csv')\n",
        "df.head()"
      ]
    },
    {
      "cell_type": "code",
      "execution_count": 7,
      "metadata": {
        "id": "Dn3kYDH0j7Fw"
      },
      "outputs": [],
      "source": [
        "# We code the gender by 1 Male 0 Female\n",
        "df[\"sex\"].replace({'Male': 1, 'Female': 0}, inplace=True)"
      ]
    },
    {
      "cell_type": "code",
      "execution_count": 8,
      "metadata": {
        "colab": {
          "base_uri": "https://localhost:8080/",
          "height": 348
        },
        "id": "_MVJMpCXkJbV",
        "outputId": "56384b7d-9f72-41bd-a515-b56dd2140280"
      },
      "outputs": [
        {
          "data": {
            "text/html": [
              "<div>\n",
              "<style scoped>\n",
              "    .dataframe tbody tr th:only-of-type {\n",
              "        vertical-align: middle;\n",
              "    }\n",
              "\n",
              "    .dataframe tbody tr th {\n",
              "        vertical-align: top;\n",
              "    }\n",
              "\n",
              "    .dataframe thead th {\n",
              "        text-align: right;\n",
              "    }\n",
              "</style>\n",
              "<table border=\"1\" class=\"dataframe\">\n",
              "  <thead>\n",
              "    <tr style=\"text-align: right;\">\n",
              "      <th></th>\n",
              "      <th>name</th>\n",
              "      <th>compas_screening_date</th>\n",
              "      <th>sex</th>\n",
              "      <th>dob</th>\n",
              "      <th>age</th>\n",
              "      <th>age_cat</th>\n",
              "      <th>race</th>\n",
              "      <th>decile_score</th>\n",
              "      <th>priors_count</th>\n",
              "      <th>c_jail_in</th>\n",
              "      <th>c_jail_out</th>\n",
              "      <th>c_days_from_compas</th>\n",
              "      <th>c_charge_degree</th>\n",
              "      <th>c_charge_desc</th>\n",
              "      <th>is_recid</th>\n",
              "      <th>is_violent_recid</th>\n",
              "      <th>type_of_assessment</th>\n",
              "      <th>score_text</th>\n",
              "      <th>v_type_of_assessment</th>\n",
              "      <th>v_decile_score</th>\n",
              "      <th>v_score_text</th>\n",
              "      <th>v_screening_date</th>\n",
              "    </tr>\n",
              "  </thead>\n",
              "  <tbody>\n",
              "    <tr>\n",
              "      <th>0</th>\n",
              "      <td>miguel hernandez</td>\n",
              "      <td>14/08/2013</td>\n",
              "      <td>1</td>\n",
              "      <td>18/04/1947</td>\n",
              "      <td>69</td>\n",
              "      <td>Greater than 45</td>\n",
              "      <td>Other</td>\n",
              "      <td>1</td>\n",
              "      <td>0</td>\n",
              "      <td>13/08/2013 6:03</td>\n",
              "      <td>14/08/2013 5:41</td>\n",
              "      <td>1.0</td>\n",
              "      <td>(F3)</td>\n",
              "      <td>Aggravated Assault w/Firearm</td>\n",
              "      <td>0</td>\n",
              "      <td>0</td>\n",
              "      <td>Risk of Recidivism</td>\n",
              "      <td>Low</td>\n",
              "      <td>Risk of Violence</td>\n",
              "      <td>1</td>\n",
              "      <td>Low</td>\n",
              "      <td>14/08/2013</td>\n",
              "    </tr>\n",
              "    <tr>\n",
              "      <th>1</th>\n",
              "      <td>miguel hernandez</td>\n",
              "      <td>14/08/2013</td>\n",
              "      <td>1</td>\n",
              "      <td>18/04/1947</td>\n",
              "      <td>69</td>\n",
              "      <td>Greater than 45</td>\n",
              "      <td>Other</td>\n",
              "      <td>1</td>\n",
              "      <td>0</td>\n",
              "      <td>13/08/2013 6:03</td>\n",
              "      <td>14/08/2013 5:41</td>\n",
              "      <td>1.0</td>\n",
              "      <td>(F3)</td>\n",
              "      <td>Aggravated Assault w/Firearm</td>\n",
              "      <td>0</td>\n",
              "      <td>0</td>\n",
              "      <td>Risk of Recidivism</td>\n",
              "      <td>Low</td>\n",
              "      <td>Risk of Violence</td>\n",
              "      <td>1</td>\n",
              "      <td>Low</td>\n",
              "      <td>14/08/2013</td>\n",
              "    </tr>\n",
              "    <tr>\n",
              "      <th>2</th>\n",
              "      <td>michael ryan</td>\n",
              "      <td>31/12/2014</td>\n",
              "      <td>1</td>\n",
              "      <td>06/02/1985</td>\n",
              "      <td>31</td>\n",
              "      <td>25 - 45</td>\n",
              "      <td>Caucasian</td>\n",
              "      <td>5</td>\n",
              "      <td>0</td>\n",
              "      <td>NaN</td>\n",
              "      <td>NaN</td>\n",
              "      <td>NaN</td>\n",
              "      <td>NaN</td>\n",
              "      <td>NaN</td>\n",
              "      <td>-1</td>\n",
              "      <td>0</td>\n",
              "      <td>Risk of Recidivism</td>\n",
              "      <td>Medium</td>\n",
              "      <td>Risk of Violence</td>\n",
              "      <td>2</td>\n",
              "      <td>Low</td>\n",
              "      <td>31/12/2014</td>\n",
              "    </tr>\n",
              "    <tr>\n",
              "      <th>3</th>\n",
              "      <td>kevon dixon</td>\n",
              "      <td>27/01/2013</td>\n",
              "      <td>1</td>\n",
              "      <td>22/01/1982</td>\n",
              "      <td>34</td>\n",
              "      <td>25 - 45</td>\n",
              "      <td>African-American</td>\n",
              "      <td>3</td>\n",
              "      <td>0</td>\n",
              "      <td>26/01/2013 3:45</td>\n",
              "      <td>05/02/2013 5:36</td>\n",
              "      <td>1.0</td>\n",
              "      <td>(F3)</td>\n",
              "      <td>Felony Battery w/Prior Convict</td>\n",
              "      <td>1</td>\n",
              "      <td>1</td>\n",
              "      <td>Risk of Recidivism</td>\n",
              "      <td>Low</td>\n",
              "      <td>Risk of Violence</td>\n",
              "      <td>1</td>\n",
              "      <td>Low</td>\n",
              "      <td>27/01/2013</td>\n",
              "    </tr>\n",
              "    <tr>\n",
              "      <th>4</th>\n",
              "      <td>ed philo</td>\n",
              "      <td>14/04/2013</td>\n",
              "      <td>1</td>\n",
              "      <td>14/05/1991</td>\n",
              "      <td>24</td>\n",
              "      <td>Less than 25</td>\n",
              "      <td>African-American</td>\n",
              "      <td>4</td>\n",
              "      <td>4</td>\n",
              "      <td>13/04/2013 4:58</td>\n",
              "      <td>14/04/2013 7:02</td>\n",
              "      <td>1.0</td>\n",
              "      <td>(F3)</td>\n",
              "      <td>Possession of Cocaine</td>\n",
              "      <td>1</td>\n",
              "      <td>0</td>\n",
              "      <td>Risk of Recidivism</td>\n",
              "      <td>Low</td>\n",
              "      <td>Risk of Violence</td>\n",
              "      <td>3</td>\n",
              "      <td>Low</td>\n",
              "      <td>14/04/2013</td>\n",
              "    </tr>\n",
              "  </tbody>\n",
              "</table>\n",
              "</div>"
            ],
            "text/plain": [
              "               name compas_screening_date  sex         dob  age  \\\n",
              "0  miguel hernandez            14/08/2013    1  18/04/1947   69   \n",
              "1  miguel hernandez            14/08/2013    1  18/04/1947   69   \n",
              "2      michael ryan            31/12/2014    1  06/02/1985   31   \n",
              "3       kevon dixon            27/01/2013    1  22/01/1982   34   \n",
              "4          ed philo            14/04/2013    1  14/05/1991   24   \n",
              "\n",
              "           age_cat              race  decile_score  priors_count  \\\n",
              "0  Greater than 45             Other             1             0   \n",
              "1  Greater than 45             Other             1             0   \n",
              "2          25 - 45         Caucasian             5             0   \n",
              "3          25 - 45  African-American             3             0   \n",
              "4     Less than 25  African-American             4             4   \n",
              "\n",
              "         c_jail_in       c_jail_out  c_days_from_compas c_charge_degree  \\\n",
              "0  13/08/2013 6:03  14/08/2013 5:41                 1.0            (F3)   \n",
              "1  13/08/2013 6:03  14/08/2013 5:41                 1.0            (F3)   \n",
              "2              NaN              NaN                 NaN             NaN   \n",
              "3  26/01/2013 3:45  05/02/2013 5:36                 1.0            (F3)   \n",
              "4  13/04/2013 4:58  14/04/2013 7:02                 1.0            (F3)   \n",
              "\n",
              "                    c_charge_desc  is_recid  is_violent_recid  \\\n",
              "0    Aggravated Assault w/Firearm         0                 0   \n",
              "1    Aggravated Assault w/Firearm         0                 0   \n",
              "2                             NaN        -1                 0   \n",
              "3  Felony Battery w/Prior Convict         1                 1   \n",
              "4           Possession of Cocaine         1                 0   \n",
              "\n",
              "   type_of_assessment score_text v_type_of_assessment  v_decile_score  \\\n",
              "0  Risk of Recidivism        Low     Risk of Violence               1   \n",
              "1  Risk of Recidivism        Low     Risk of Violence               1   \n",
              "2  Risk of Recidivism     Medium     Risk of Violence               2   \n",
              "3  Risk of Recidivism        Low     Risk of Violence               1   \n",
              "4  Risk of Recidivism        Low     Risk of Violence               3   \n",
              "\n",
              "  v_score_text v_screening_date  \n",
              "0          Low       14/08/2013  \n",
              "1          Low       14/08/2013  \n",
              "2          Low       31/12/2014  \n",
              "3          Low       27/01/2013  \n",
              "4          Low       14/04/2013  "
            ]
          },
          "execution_count": 8,
          "metadata": {},
          "output_type": "execute_result"
        }
      ],
      "source": [
        "# remove unneeded column identifiers\n",
        "df.drop(columns = ['last','first','out_custody','in_custody','c_offense_date','decile_score.1','priors_count.1','c_case_number','days_b_screening_arrest','start','end','event','screening_date','c_case_number','juv_other_count','juv_misd_count','juv_fel_count','r_days_from_arrest','id','r_charge_degree','r_offense_date', 'vr_case_number','r_case_number','r_jail_out','c_arrest_date','r_charge_desc','r_jail_in', 'violent_recid','vr_charge_degree','vr_offense_date','vr_charge_desc'], inplace=True)\n",
        "df.head()"
      ]
    },
    {
      "cell_type": "code",
      "execution_count": 9,
      "metadata": {
        "id": "h-QLP2OHkLhB"
      },
      "outputs": [],
      "source": [
        "#We need to convert variables to date and count days in prison.\n",
        "df['c_jail_in'] = pd.to_datetime(df['c_jail_in'])\n",
        "df['c_jail_out'] = pd.to_datetime(df['c_jail_out'])\n",
        "df['days_in_jail'] = abs((df['c_jail_out'] - df['c_jail_in']).dt.days)"
      ]
    },
    {
      "cell_type": "code",
      "execution_count": 10,
      "metadata": {
        "colab": {
          "base_uri": "https://localhost:8080/"
        },
        "id": "w3SFDRRYkM_h",
        "outputId": "69ab2b8e-f4e3-4e7c-f660-3f36c7aafb2c"
      },
      "outputs": [
        {
          "name": "stdout",
          "output_type": "stream",
          "text": [
            "<class 'pandas.core.frame.DataFrame'>\n",
            "RangeIndex: 18316 entries, 0 to 18315\n",
            "Data columns (total 23 columns):\n",
            " #   Column                 Non-Null Count  Dtype         \n",
            "---  ------                 --------------  -----         \n",
            " 0   name                   18316 non-null  object        \n",
            " 1   compas_screening_date  18316 non-null  object        \n",
            " 2   sex                    18316 non-null  int64         \n",
            " 3   dob                    18316 non-null  object        \n",
            " 4   age                    18316 non-null  int64         \n",
            " 5   age_cat                18316 non-null  object        \n",
            " 6   race                   18316 non-null  object        \n",
            " 7   decile_score           18316 non-null  int64         \n",
            " 8   priors_count           18316 non-null  int64         \n",
            " 9   c_jail_in              17019 non-null  datetime64[ns]\n",
            " 10  c_jail_out             17019 non-null  datetime64[ns]\n",
            " 11  c_days_from_compas     17449 non-null  float64       \n",
            " 12  c_charge_degree        17449 non-null  object        \n",
            " 13  c_charge_desc          17435 non-null  object        \n",
            " 14  is_recid               18316 non-null  int64         \n",
            " 15  is_violent_recid       18316 non-null  int64         \n",
            " 16  type_of_assessment     18316 non-null  object        \n",
            " 17  score_text             18293 non-null  object        \n",
            " 18  v_type_of_assessment   18316 non-null  object        \n",
            " 19  v_decile_score         18316 non-null  int64         \n",
            " 20  v_score_text           18310 non-null  object        \n",
            " 21  v_screening_date       18316 non-null  object        \n",
            " 22  days_in_jail           17019 non-null  float64       \n",
            "dtypes: datetime64[ns](2), float64(2), int64(7), object(12)\n",
            "memory usage: 3.2+ MB\n"
          ]
        }
      ],
      "source": [
        "#The data type is checked again.\n",
        "df.info()"
      ]
    },
    {
      "cell_type": "code",
      "execution_count": 11,
      "metadata": {
        "colab": {
          "base_uri": "https://localhost:8080/"
        },
        "id": "lC6l5sfbkOWR",
        "outputId": "68135797-c2bc-4c1e-e8af-11144c4b9fb8"
      },
      "outputs": [
        {
          "data": {
            "text/plain": [
              "name                     10855\n",
              "compas_screening_date      703\n",
              "dob                       7485\n",
              "age_cat                      3\n",
              "race                         6\n",
              "c_charge_degree             14\n",
              "c_charge_desc              513\n",
              "type_of_assessment           1\n",
              "score_text                   3\n",
              "v_type_of_assessment         1\n",
              "v_score_text                 3\n",
              "v_screening_date           703\n",
              "dtype: int64"
            ]
          },
          "execution_count": 11,
          "metadata": {},
          "output_type": "execute_result"
        }
      ],
      "source": [
        "#Check the number of unique values of all character object data types\n",
        "df.select_dtypes(include='object').nunique()"
      ]
    },
    {
      "cell_type": "markdown",
      "metadata": {
        "id": "3NzvpZi2Ejk1"
      },
      "source": [
        "### Exploratory Data Analysis"
      ]
    },
    {
      "cell_type": "code",
      "execution_count": 12,
      "metadata": {
        "id": "bseJjjLNkP7h"
      },
      "outputs": [],
      "source": [
        "jail_vars = df.select_dtypes(include='object').columns.tolist()"
      ]
    },
    {
      "cell_type": "code",
      "execution_count": 13,
      "metadata": {
        "colab": {
          "base_uri": "https://localhost:8080/"
        },
        "id": "zfx_-DkrlSrC",
        "outputId": "ed20deb9-4633-47d3-d7d6-9b510213f00d"
      },
      "outputs": [
        {
          "data": {
            "text/plain": [
              "name                        0\n",
              "compas_screening_date       0\n",
              "sex                         0\n",
              "dob                         0\n",
              "age                         0\n",
              "age_cat                     0\n",
              "race                        0\n",
              "decile_score                0\n",
              "priors_count                0\n",
              "c_jail_in                1297\n",
              "c_jail_out               1297\n",
              "c_days_from_compas        867\n",
              "c_charge_degree           867\n",
              "c_charge_desc             881\n",
              "is_recid                    0\n",
              "is_violent_recid            0\n",
              "type_of_assessment          0\n",
              "score_text                 23\n",
              "v_type_of_assessment        0\n",
              "v_decile_score              0\n",
              "v_score_text                6\n",
              "v_screening_date            0\n",
              "days_in_jail             1297\n",
              "dtype: int64"
            ]
          },
          "execution_count": 13,
          "metadata": {},
          "output_type": "execute_result"
        }
      ],
      "source": [
        "df.isna().sum()"
      ]
    },
    {
      "cell_type": "code",
      "execution_count": 14,
      "metadata": {
        "colab": {
          "base_uri": "https://localhost:8080/"
        },
        "id": "t-kVjSJ9nEDp",
        "outputId": "f6b73f47-a935-4445-8674-68d677121125"
      },
      "outputs": [
        {
          "data": {
            "text/plain": [
              "c_jail_in             7.081240\n",
              "c_jail_out            7.081240\n",
              "days_in_jail          7.081240\n",
              "c_charge_desc         4.810002\n",
              "c_days_from_compas    4.733566\n",
              "c_charge_degree       4.733566\n",
              "score_text            0.125573\n",
              "v_score_text          0.032758\n",
              "dtype: float64"
            ]
          },
          "execution_count": 14,
          "metadata": {},
          "output_type": "execute_result"
        }
      ],
      "source": [
        "check_missing = df.isnull().sum() * 100 / df.shape[0]\n",
        "check_missing[check_missing > 0].sort_values(ascending=False)"
      ]
    },
    {
      "cell_type": "code",
      "execution_count": 15,
      "metadata": {
        "id": "CVd0lsNNaz23"
      },
      "outputs": [],
      "source": [
        "df = df.fillna(0)\n"
      ]
    },
    {
      "cell_type": "code",
      "execution_count": 16,
      "metadata": {
        "colab": {
          "base_uri": "https://localhost:8080/"
        },
        "id": "HfEtohhAf2LZ",
        "outputId": "69fd3986-822d-407a-830c-8ed6eef4cf72"
      },
      "outputs": [
        {
          "data": {
            "text/plain": [
              "name                     0\n",
              "compas_screening_date    0\n",
              "sex                      0\n",
              "dob                      0\n",
              "age                      0\n",
              "age_cat                  0\n",
              "race                     0\n",
              "decile_score             0\n",
              "priors_count             0\n",
              "c_jail_in                0\n",
              "c_jail_out               0\n",
              "c_days_from_compas       0\n",
              "c_charge_degree          0\n",
              "c_charge_desc            0\n",
              "is_recid                 0\n",
              "is_violent_recid         0\n",
              "type_of_assessment       0\n",
              "score_text               0\n",
              "v_type_of_assessment     0\n",
              "v_decile_score           0\n",
              "v_score_text             0\n",
              "v_screening_date         0\n",
              "days_in_jail             0\n",
              "dtype: int64"
            ]
          },
          "execution_count": 16,
          "metadata": {},
          "output_type": "execute_result"
        }
      ],
      "source": [
        "df.isnull().sum()"
      ]
    },
    {
      "cell_type": "code",
      "execution_count": 17,
      "metadata": {
        "id": "buzP_sgCVNIz"
      },
      "outputs": [],
      "source": [
        "#mean_c_jail_in = df['c_jail_in'].mean()\n",
        "#df['c_jail_in'] = df['c_jail_in'].fillna(mean_c_jail_in)\n",
        "#mean_c_jail_out = df['c_jail_out'].mean()\n",
        "#df['c_jail_out'] = df['c_jail_out'].fillna(mean_c_jail_out)"
      ]
    },
    {
      "cell_type": "markdown",
      "metadata": {
        "id": "915w2L7TexLT"
      },
      "source": [
        "### Explainability\n",
        "\n",
        "Model complexity\n",
        "\n",
        "Model complexity is a crucial consideration in model selection, particularly in the context of machine learning. The complexity of a model refers to its capacity to capture patterns in the training data. In general, there is a trade-off between model complexity and performance, and finding the right level of complexity is a key aspect of building effective models. Here are some key points related to model complexity in model selection:\n",
        "\n",
        "- Overfitting and Underfitting:\n",
        "\n",
        "Overfitting occurs when a model is too complex and captures noise or random fluctuations in the training data, making it perform poorly on new data.\n",
        "\n",
        "- Cross-Validation:\n",
        "\n",
        "Cross-validation is a valuable technique for assessing how well a model generalizes to new data. By splitting the data into training and validation sets multiple times, it helps identify the level of complexity that provides the best trade-off between bias and variance.\n",
        "\n",
        "- Grid Search and Hyperparameter Tuning:\n",
        "\n",
        "During model selection, practitioners often perform grid search or other hyperparameter tuning techniques to find the optimal set of hyperparameters that balance model complexity and performance. This involves exploring different configurations to identify the best trade-off."
      ]
    },
    {
      "cell_type": "markdown",
      "metadata": {
        "id": "-NrG3K37fEW0"
      },
      "source": [
        "### Robustness\n",
        "Model Validation\n",
        "\n"
      ]
    },
    {
      "cell_type": "markdown",
      "metadata": {
        "id": "SK5PHfiifI_p"
      },
      "source": [
        "- Split the data\n",
        "- Split your data in train/val/test sets, with 60%/20%/20% distribution\n",
        "- Use Scikit-Learn for that (the train_test_split function) and set the seed to 42."
      ]
    },
    {
      "cell_type": "code",
      "execution_count": 18,
      "metadata": {
        "id": "NM_wqj2Qgkm0"
      },
      "outputs": [],
      "source": [
        "data_class = df.copy()"
      ]
    },
    {
      "cell_type": "code",
      "execution_count": 19,
      "metadata": {
        "id": "hOAozUUBiK1h"
      },
      "outputs": [],
      "source": [
        "#data_class = data_class.drop(['is_recid'], axis=1)"
      ]
    },
    {
      "cell_type": "code",
      "execution_count": 20,
      "metadata": {
        "id": "Mmp7OxhyqpqN"
      },
      "outputs": [],
      "source": [
        "data_class = data_class.drop(['name', 'c_jail_in','c_jail_out','compas_screening_date','age_cat','dob','c_charge_desc','c_charge_degree','type_of_assessment','score_text','v_type_of_assessment','v_score_text','v_screening_date','race'], axis=1)"
      ]
    },
    {
      "cell_type": "code",
      "execution_count": 21,
      "metadata": {
        "colab": {
          "base_uri": "https://localhost:8080/",
          "height": 424
        },
        "id": "XCylVqPriVbZ",
        "outputId": "d7e40dab-9885-4afc-9226-4906b90fa316"
      },
      "outputs": [
        {
          "data": {
            "text/html": [
              "<div>\n",
              "<style scoped>\n",
              "    .dataframe tbody tr th:only-of-type {\n",
              "        vertical-align: middle;\n",
              "    }\n",
              "\n",
              "    .dataframe tbody tr th {\n",
              "        vertical-align: top;\n",
              "    }\n",
              "\n",
              "    .dataframe thead th {\n",
              "        text-align: right;\n",
              "    }\n",
              "</style>\n",
              "<table border=\"1\" class=\"dataframe\">\n",
              "  <thead>\n",
              "    <tr style=\"text-align: right;\">\n",
              "      <th></th>\n",
              "      <th>sex</th>\n",
              "      <th>age</th>\n",
              "      <th>decile_score</th>\n",
              "      <th>priors_count</th>\n",
              "      <th>c_days_from_compas</th>\n",
              "      <th>is_recid</th>\n",
              "      <th>is_violent_recid</th>\n",
              "      <th>v_decile_score</th>\n",
              "      <th>days_in_jail</th>\n",
              "    </tr>\n",
              "  </thead>\n",
              "  <tbody>\n",
              "    <tr>\n",
              "      <th>0</th>\n",
              "      <td>1</td>\n",
              "      <td>69</td>\n",
              "      <td>1</td>\n",
              "      <td>0</td>\n",
              "      <td>1.0</td>\n",
              "      <td>0</td>\n",
              "      <td>0</td>\n",
              "      <td>1</td>\n",
              "      <td>0.0</td>\n",
              "    </tr>\n",
              "    <tr>\n",
              "      <th>1</th>\n",
              "      <td>1</td>\n",
              "      <td>69</td>\n",
              "      <td>1</td>\n",
              "      <td>0</td>\n",
              "      <td>1.0</td>\n",
              "      <td>0</td>\n",
              "      <td>0</td>\n",
              "      <td>1</td>\n",
              "      <td>0.0</td>\n",
              "    </tr>\n",
              "    <tr>\n",
              "      <th>2</th>\n",
              "      <td>1</td>\n",
              "      <td>31</td>\n",
              "      <td>5</td>\n",
              "      <td>0</td>\n",
              "      <td>0.0</td>\n",
              "      <td>-1</td>\n",
              "      <td>0</td>\n",
              "      <td>2</td>\n",
              "      <td>0.0</td>\n",
              "    </tr>\n",
              "    <tr>\n",
              "      <th>3</th>\n",
              "      <td>1</td>\n",
              "      <td>34</td>\n",
              "      <td>3</td>\n",
              "      <td>0</td>\n",
              "      <td>1.0</td>\n",
              "      <td>1</td>\n",
              "      <td>1</td>\n",
              "      <td>1</td>\n",
              "      <td>10.0</td>\n",
              "    </tr>\n",
              "    <tr>\n",
              "      <th>4</th>\n",
              "      <td>1</td>\n",
              "      <td>24</td>\n",
              "      <td>4</td>\n",
              "      <td>4</td>\n",
              "      <td>1.0</td>\n",
              "      <td>1</td>\n",
              "      <td>0</td>\n",
              "      <td>3</td>\n",
              "      <td>1.0</td>\n",
              "    </tr>\n",
              "    <tr>\n",
              "      <th>...</th>\n",
              "      <td>...</td>\n",
              "      <td>...</td>\n",
              "      <td>...</td>\n",
              "      <td>...</td>\n",
              "      <td>...</td>\n",
              "      <td>...</td>\n",
              "      <td>...</td>\n",
              "      <td>...</td>\n",
              "      <td>...</td>\n",
              "    </tr>\n",
              "    <tr>\n",
              "      <th>18311</th>\n",
              "      <td>0</td>\n",
              "      <td>31</td>\n",
              "      <td>6</td>\n",
              "      <td>5</td>\n",
              "      <td>1.0</td>\n",
              "      <td>0</td>\n",
              "      <td>0</td>\n",
              "      <td>4</td>\n",
              "      <td>10.0</td>\n",
              "    </tr>\n",
              "    <tr>\n",
              "      <th>18312</th>\n",
              "      <td>1</td>\n",
              "      <td>57</td>\n",
              "      <td>1</td>\n",
              "      <td>0</td>\n",
              "      <td>1.0</td>\n",
              "      <td>0</td>\n",
              "      <td>0</td>\n",
              "      <td>1</td>\n",
              "      <td>1.0</td>\n",
              "    </tr>\n",
              "    <tr>\n",
              "      <th>18313</th>\n",
              "      <td>0</td>\n",
              "      <td>33</td>\n",
              "      <td>2</td>\n",
              "      <td>3</td>\n",
              "      <td>1.0</td>\n",
              "      <td>0</td>\n",
              "      <td>0</td>\n",
              "      <td>2</td>\n",
              "      <td>1.0</td>\n",
              "    </tr>\n",
              "    <tr>\n",
              "      <th>18314</th>\n",
              "      <td>0</td>\n",
              "      <td>23</td>\n",
              "      <td>4</td>\n",
              "      <td>2</td>\n",
              "      <td>2.0</td>\n",
              "      <td>1</td>\n",
              "      <td>0</td>\n",
              "      <td>4</td>\n",
              "      <td>1.0</td>\n",
              "    </tr>\n",
              "    <tr>\n",
              "      <th>18315</th>\n",
              "      <td>0</td>\n",
              "      <td>23</td>\n",
              "      <td>4</td>\n",
              "      <td>2</td>\n",
              "      <td>2.0</td>\n",
              "      <td>1</td>\n",
              "      <td>0</td>\n",
              "      <td>4</td>\n",
              "      <td>1.0</td>\n",
              "    </tr>\n",
              "  </tbody>\n",
              "</table>\n",
              "<p>18316 rows × 9 columns</p>\n",
              "</div>"
            ],
            "text/plain": [
              "       sex  age  decile_score  priors_count  c_days_from_compas  is_recid  \\\n",
              "0        1   69             1             0                 1.0         0   \n",
              "1        1   69             1             0                 1.0         0   \n",
              "2        1   31             5             0                 0.0        -1   \n",
              "3        1   34             3             0                 1.0         1   \n",
              "4        1   24             4             4                 1.0         1   \n",
              "...    ...  ...           ...           ...                 ...       ...   \n",
              "18311    0   31             6             5                 1.0         0   \n",
              "18312    1   57             1             0                 1.0         0   \n",
              "18313    0   33             2             3                 1.0         0   \n",
              "18314    0   23             4             2                 2.0         1   \n",
              "18315    0   23             4             2                 2.0         1   \n",
              "\n",
              "       is_violent_recid  v_decile_score  days_in_jail  \n",
              "0                     0               1           0.0  \n",
              "1                     0               1           0.0  \n",
              "2                     0               2           0.0  \n",
              "3                     1               1          10.0  \n",
              "4                     0               3           1.0  \n",
              "...                 ...             ...           ...  \n",
              "18311                 0               4          10.0  \n",
              "18312                 0               1           1.0  \n",
              "18313                 0               2           1.0  \n",
              "18314                 0               4           1.0  \n",
              "18315                 0               4           1.0  \n",
              "\n",
              "[18316 rows x 9 columns]"
            ]
          },
          "execution_count": 21,
          "metadata": {},
          "output_type": "execute_result"
        }
      ],
      "source": [
        "data_class"
      ]
    },
    {
      "cell_type": "code",
      "execution_count": 22,
      "metadata": {
        "id": "R_xURanriY9J"
      },
      "outputs": [],
      "source": [
        "SEED = 42"
      ]
    },
    {
      "cell_type": "code",
      "execution_count": 23,
      "metadata": {
        "id": "naP5ZZ5JksFy"
      },
      "outputs": [],
      "source": [
        "df_full_train, df_test = train_test_split(data_class, test_size=0.2, random_state=SEED)\n",
        "df_train, df_val = train_test_split(df_full_train, test_size=0.25, random_state=SEED)\n",
        "\n",
        "assert len(data_class) == (len(df_train) + len(df_val) + len(df_test))"
      ]
    },
    {
      "cell_type": "code",
      "execution_count": 24,
      "metadata": {
        "id": "VeMNVR5rkyCi"
      },
      "outputs": [],
      "source": [
        "df_train = df_train.reset_index(drop=True)\n",
        "df_val = df_val.reset_index(drop=True)\n",
        "df_test = df_test.reset_index(drop=True)"
      ]
    },
    {
      "cell_type": "code",
      "execution_count": 25,
      "metadata": {
        "id": "CamCx82xkyVg"
      },
      "outputs": [],
      "source": [
        "y_train = df_train.is_recid.values\n",
        "y_val = df_val.is_recid.values\n",
        "y_test = df_test.is_recid.values\n",
        "\n",
        "del df_train['is_recid']\n",
        "del df_val['is_recid']\n",
        "del df_test['is_recid']"
      ]
    },
    {
      "cell_type": "code",
      "execution_count": 26,
      "metadata": {
        "id": "Naev8N9spHuZ"
      },
      "outputs": [],
      "source": [
        "from sklearn.feature_extraction import DictVectorizer\n",
        "from sklearn.linear_model import LogisticRegression\n",
        "from matplotlib.pyplot import figure"
      ]
    },
    {
      "cell_type": "code",
      "execution_count": 27,
      "metadata": {
        "id": "jKVHuK2rqNbu"
      },
      "outputs": [],
      "source": [
        "train_dicts = df_train.to_dict(orient='records')\n",
        "dv = DictVectorizer()\n",
        "X_train = dv.fit_transform(train_dicts)"
      ]
    },
    {
      "cell_type": "code",
      "execution_count": 28,
      "metadata": {
        "colab": {
          "base_uri": "https://localhost:8080/",
          "height": 1000
        },
        "id": "3xqje1n8sShv",
        "outputId": "753097fd-783d-4815-836f-ab2008437511"
      },
      "outputs": [
        {
          "data": {
            "image/png": "[encoded data removed]",
            "text/plain": [
              "<Figure size 800x1200 with 1 Axes>"
            ]
          },
          "metadata": {},
          "output_type": "display_data"
        }
      ],
      "source": [
        "dt_feature_importance = DecisionTreeClassifier()\n",
        "\n",
        "# fit the model\n",
        "dt_feature_importance.fit(X_train, y_train)\n",
        "# get importance\n",
        "importance = dt_feature_importance.feature_importances_\n",
        "\n",
        "# Sort features based on importance\n",
        "sorted_indices = np.argsort(importance)\n",
        "sorted_features = [df_train.columns[i] for i in sorted_indices]\n",
        "\n",
        "# Calculate the threshold for the 25th percentile\n",
        "threshold = np.quantile(importance, 0.25)\n",
        "\n",
        "# Adjust the figure size\n",
        "plt.figure(figsize=(8, 12))\n",
        "\n",
        "# plot feature importance with adjusted bar width\n",
        "plt.barh(sorted_features, importance[sorted_indices], height=0.8)\n",
        "plt.axvline(x=threshold, color='r', linestyle='--', label='25th Percentile Threshold')\n",
        "plt.xlabel('Feature Importance Score')\n",
        "plt.ylabel('Features')\n",
        "plt.legend(loc='lower right')\n",
        "plt.show()\n",
        "\n",
        "least_important_features_df = [sorted_features[i] for i in range(len(sorted_features)) if importance[sorted_indices[i]] < threshold]"
      ]
    },
    {
      "cell_type": "code",
      "execution_count": 29,
      "metadata": {
        "colab": {
          "base_uri": "https://localhost:8080/",
          "height": 112
        },
        "id": "sO3vti85uEVi",
        "outputId": "c4ec6d63-d737-4e34-c7a5-397cc7e0cbcc"
      },
      "outputs": [
        {
          "data": {
            "text/html": [
              "<div>\n",
              "<style scoped>\n",
              "    .dataframe tbody tr th:only-of-type {\n",
              "        vertical-align: middle;\n",
              "    }\n",
              "\n",
              "    .dataframe tbody tr th {\n",
              "        vertical-align: top;\n",
              "    }\n",
              "\n",
              "    .dataframe thead th {\n",
              "        text-align: right;\n",
              "    }\n",
              "</style>\n",
              "<table border=\"1\" class=\"dataframe\">\n",
              "  <thead>\n",
              "    <tr style=\"text-align: right;\">\n",
              "      <th></th>\n",
              "      <th>Least Importance (DecisionTreeClassifier)</th>\n",
              "    </tr>\n",
              "  </thead>\n",
              "  <tbody>\n",
              "    <tr>\n",
              "      <th>0</th>\n",
              "      <td>v_decile_score</td>\n",
              "    </tr>\n",
              "    <tr>\n",
              "      <th>1</th>\n",
              "      <td>c_days_from_compas</td>\n",
              "    </tr>\n",
              "  </tbody>\n",
              "</table>\n",
              "</div>"
            ],
            "text/plain": [
              "  Least Importance (DecisionTreeClassifier)\n",
              "0                            v_decile_score\n",
              "1                        c_days_from_compas"
            ]
          },
          "execution_count": 29,
          "metadata": {},
          "output_type": "execute_result"
        }
      ],
      "source": [
        "least_important_features = pd.DataFrame({'Least Importance (DecisionTreeClassifier)' : least_important_features_df})\n",
        "least_important_features"
      ]
    },
    {
      "cell_type": "markdown",
      "metadata": {
        "id": "nb5wNS6JwW3R"
      },
      "source": [
        "### **One-hot encoding**\n",
        "\n",
        "We perform one-hot encoding through a DictVectorizer instance.\n",
        "One hot encoding is one method of converting data to prepare it for a machine learning algorithm. With one-hot, we convert each categorical value into a new categorical column and assign a binary value of 1 or 0 to those columns. Each integer value is represented as a binary vector."
      ]
    },
    {
      "cell_type": "code",
      "execution_count": 30,
      "metadata": {
        "colab": {
          "base_uri": "https://localhost:8080/"
        },
        "id": "474JdYlpvJtn",
        "outputId": "8ed4d34e-abac-41c8-ed2e-107dda9b60c5"
      },
      "outputs": [
        {
          "data": {
            "text/plain": [
              "array(['age', 'c_days_from_compas', 'days_in_jail', 'decile_score',\n",
              "       'is_violent_recid', 'priors_count', 'sex', 'v_decile_score'],\n",
              "      dtype=object)"
            ]
          },
          "execution_count": 30,
          "metadata": {},
          "output_type": "execute_result"
        }
      ],
      "source": [
        "dv.get_feature_names_out()"
      ]
    },
    {
      "cell_type": "markdown",
      "metadata": {
        "id": "xFlPRQO6wzML"
      },
      "source": [
        "**Note on parameter tuning**\n",
        "\n",
        "During this project we will use GridSearchCV to accelerate the parameter tuning process.\n",
        "GridSearchCV is a technique for finding the optimal parameter values from a given set of parameters in a grid. It’s essentially a cross-validation technique. The model as well as the parameters must be entered."
      ]
    },
    {
      "cell_type": "code",
      "execution_count": 31,
      "metadata": {
        "id": "485NTPNzxKfk"
      },
      "outputs": [],
      "source": [
        "from sklearn.model_selection import GridSearchCV\n",
        "import pickle"
      ]
    },
    {
      "cell_type": "markdown",
      "metadata": {},
      "source": [
        "DecisionTreeClassifier"
      ]
    },
    {
      "cell_type": "code",
      "execution_count": 32,
      "metadata": {
        "colab": {
          "base_uri": "https://localhost:8080/"
        },
        "id": "bFnQ0vTlwThm",
        "outputId": "0c314292-d146-4046-b951-e50b3778c3dc"
      },
      "outputs": [
        {
          "name": "stdout",
          "output_type": "stream",
          "text": [
            "Best parameters: {'criterion': 'gini', 'max_depth': 50, 'min_samples_leaf': 1, 'random_state': 47}\n",
            "Best score: 0.7995257823245612\n"
          ]
        }
      ],
      "source": [
        "dt = DecisionTreeClassifier()\n",
        "\n",
        "\n",
        "params = {'max_depth': [1, 2, 3, 4, 5, 6, 7, 8, 9,  10, 15, 20, 50, 60, None],\n",
        "              'min_samples_leaf' : [1, 5, 10, 15, 20, 500, 100, 200],\n",
        "              'criterion' : ['gini', 'entropy', 'log_loss'],\n",
        "              'random_state': [47]\n",
        "              }\n",
        "\n",
        "grid_search_dt = GridSearchCV(estimator=dt, param_grid=params, n_jobs=-1, cv=5)\n",
        "\n",
        "grid_search_dt.fit(X_train, y_train)\n",
        "\n",
        "best_params = grid_search_dt.best_params_\n",
        "best_score = grid_search_dt.best_score_\n",
        "\n",
        "print(f\"Best parameters: {best_params}\")\n",
        "print(f\"Best score: {best_score}\")"
      ]
    },
    {
      "cell_type": "code",
      "execution_count": 33,
      "metadata": {
        "id": "osCwKNcXxCCc"
      },
      "outputs": [],
      "source": [
        "with open('DecisionTreeClassifier.bin', 'wb') as f_out:\n",
        "    pickle.dump((dv, grid_search_dt), f_out)"
      ]
    },
    {
      "cell_type": "markdown",
      "metadata": {
        "id": "_j-2DI3RyLEo"
      },
      "source": [
        "Validation Score"
      ]
    },
    {
      "cell_type": "code",
      "execution_count": 34,
      "metadata": {
        "colab": {
          "base_uri": "https://localhost:8080/"
        },
        "id": "fM-WZ5-5yGkn",
        "outputId": "6a247129-56c0-4d43-ce07-2b79b19399e3"
      },
      "outputs": [
        {
          "data": {
            "text/plain": [
              "0.831012831012831"
            ]
          },
          "execution_count": 34,
          "metadata": {},
          "output_type": "execute_result"
        }
      ],
      "source": [
        "val_dicts = df_val.to_dict(orient='records')\n",
        "X_val = dv.transform(val_dicts)\n",
        "y_pred = grid_search_dt.predict(X_val)\n",
        "dt_accuracy_score = accuracy_score(y_val, y_pred)\n",
        "dt_accuracy_score"
      ]
    },
    {
      "cell_type": "code",
      "execution_count": 35,
      "metadata": {
        "colab": {
          "base_uri": "https://localhost:8080/"
        },
        "id": "ECAOWsiLyNVT",
        "outputId": "38dcc909-2e86-476c-c587-985fc4c6e47d"
      },
      "outputs": [
        {
          "name": "stdout",
          "output_type": "stream",
          "text": [
            "Accuracy = 0.83\n"
          ]
        }
      ],
      "source": [
        "accuracy = np.round(accuracy_score(y_val, y_pred),2)\n",
        "print(f'Accuracy = {accuracy}')"
      ]
    },
    {
      "cell_type": "code",
      "execution_count": 36,
      "metadata": {
        "colab": {
          "base_uri": "https://localhost:8080/"
        },
        "id": "pd3D8AfwyTNC",
        "outputId": "9134beca-4e9d-414f-852e-69c7c35634f8"
      },
      "outputs": [
        {
          "name": "stdout",
          "output_type": "stream",
          "text": [
            "              precision    recall  f1-score   support\n",
            "\n",
            "          -1       0.85      0.81      0.83       170\n",
            "           0       0.85      0.80      0.83      1822\n",
            "           1       0.81      0.86      0.83      1671\n",
            "\n",
            "    accuracy                           0.83      3663\n",
            "   macro avg       0.84      0.83      0.83      3663\n",
            "weighted avg       0.83      0.83      0.83      3663\n",
            "\n"
          ]
        }
      ],
      "source": [
        "dt_classification_report = classification_report(y_val, y_pred)\n",
        "print(dt_classification_report)"
      ]
    },
    {
      "cell_type": "code",
      "execution_count": 37,
      "metadata": {
        "colab": {
          "base_uri": "https://localhost:8080/"
        },
        "id": "NQFsM5xYye1G",
        "outputId": "47e94a86-8712-462f-ad1c-8d3933240834"
      },
      "outputs": [
        {
          "data": {
            "text/plain": [
              "array([[ 138,   20,   12],\n",
              "       [  22, 1466,  334],\n",
              "       [   2,  229, 1440]], dtype=int64)"
            ]
          },
          "execution_count": 37,
          "metadata": {},
          "output_type": "execute_result"
        }
      ],
      "source": [
        "dt_confusion_matrix = confusion_matrix(y_val, y_pred)\n",
        "dt_confusion_matrix"
      ]
    },
    {
      "cell_type": "markdown",
      "metadata": {
        "id": "EZwbXEi5zBJd"
      },
      "source": [
        "Test Score"
      ]
    },
    {
      "cell_type": "code",
      "execution_count": 38,
      "metadata": {
        "colab": {
          "base_uri": "https://localhost:8080/"
        },
        "id": "WCOim9dNy-WS",
        "outputId": "5ec53c86-ed74-4bf0-f33a-fe6c705bc193"
      },
      "outputs": [
        {
          "data": {
            "text/plain": [
              "0.8302401746724891"
            ]
          },
          "execution_count": 38,
          "metadata": {},
          "output_type": "execute_result"
        }
      ],
      "source": [
        "test_dicts = df_test.to_dict(orient='records')\n",
        "X_test = dv.transform(test_dicts)\n",
        "y_pred = grid_search_dt.predict(X_test)\n",
        "accuracy_score(y_test, y_pred)"
      ]
    },
    {
      "cell_type": "markdown",
      "metadata": {},
      "source": [
        "LogisticRegression"
      ]
    },
    {
      "cell_type": "code",
      "execution_count": 39,
      "metadata": {},
      "outputs": [
        {
          "data": {
            "text/html": [
              "<style>#sk-container-id-1 {color: black;background-color: white;}#sk-container-id-1 pre{padding: 0;}#sk-container-id-1 div.sk-toggleable {background-color: white;}#sk-container-id-1 label.sk-toggleable__label {cursor: pointer;display: block;width: 100%;margin-bottom: 0;padding: 0.3em;box-sizing: border-box;text-align: center;}#sk-container-id-1 label.sk-toggleable__label-arrow:before {content: \"▸\";float: left;margin-right: 0.25em;color: #696969;}#sk-container-id-1 label.sk-toggleable__label-arrow:hover:before {color: black;}#sk-container-id-1 div.sk-estimator:hover label.sk-toggleable__label-arrow:before {color: black;}#sk-container-id-1 div.sk-toggleable__content {max-height: 0;max-width: 0;overflow: hidden;text-align: left;background-color: #f0f8ff;}#sk-container-id-1 div.sk-toggleable__content pre {margin: 0.2em;color: black;border-radius: 0.25em;background-color: #f0f8ff;}#sk-container-id-1 input.sk-toggleable__control:checked~div.sk-toggleable__content {max-height: 200px;max-width: 100%;overflow: auto;}#sk-container-id-1 input.sk-toggleable__control:checked~label.sk-toggleable__label-arrow:before {content: \"▾\";}#sk-container-id-1 div.sk-estimator input.sk-toggleable__control:checked~label.sk-toggleable__label {background-color: #d4ebff;}#sk-container-id-1 div.sk-label input.sk-toggleable__control:checked~label.sk-toggleable__label {background-color: #d4ebff;}#sk-container-id-1 input.sk-hidden--visually {border: 0;clip: rect(1px 1px 1px 1px);clip: rect(1px, 1px, 1px, 1px);height: 1px;margin: -1px;overflow: hidden;padding: 0;position: absolute;width: 1px;}#sk-container-id-1 div.sk-estimator {font-family: monospace;background-color: #f0f8ff;border: 1px dotted black;border-radius: 0.25em;box-sizing: border-box;margin-bottom: 0.5em;}#sk-container-id-1 div.sk-estimator:hover {background-color: #d4ebff;}#sk-container-id-1 div.sk-parallel-item::after {content: \"\";width: 100%;border-bottom: 1px solid gray;flex-grow: 1;}#sk-container-id-1 div.sk-label:hover label.sk-toggleable__label {background-color: #d4ebff;}#sk-container-id-1 div.sk-serial::before {content: \"\";position: absolute;border-left: 1px solid gray;box-sizing: border-box;top: 0;bottom: 0;left: 50%;z-index: 0;}#sk-container-id-1 div.sk-serial {display: flex;flex-direction: column;align-items: center;background-color: white;padding-right: 0.2em;padding-left: 0.2em;position: relative;}#sk-container-id-1 div.sk-item {position: relative;z-index: 1;}#sk-container-id-1 div.sk-parallel {display: flex;align-items: stretch;justify-content: center;background-color: white;position: relative;}#sk-container-id-1 div.sk-item::before, #sk-container-id-1 div.sk-parallel-item::before {content: \"\";position: absolute;border-left: 1px solid gray;box-sizing: border-box;top: 0;bottom: 0;left: 50%;z-index: -1;}#sk-container-id-1 div.sk-parallel-item {display: flex;flex-direction: column;z-index: 1;position: relative;background-color: white;}#sk-container-id-1 div.sk-parallel-item:first-child::after {align-self: flex-end;width: 50%;}#sk-container-id-1 div.sk-parallel-item:last-child::after {align-self: flex-start;width: 50%;}#sk-container-id-1 div.sk-parallel-item:only-child::after {width: 0;}#sk-container-id-1 div.sk-dashed-wrapped {border: 1px dashed gray;margin: 0 0.4em 0.5em 0.4em;box-sizing: border-box;padding-bottom: 0.4em;background-color: white;}#sk-container-id-1 div.sk-label label {font-family: monospace;font-weight: bold;display: inline-block;line-height: 1.2em;}#sk-container-id-1 div.sk-label-container {text-align: center;}#sk-container-id-1 div.sk-container {/* jupyter's `normalize.less` sets `[hidden] { display: none; }` but bootstrap.min.css set `[hidden] { display: none !important; }` so we also need the `!important` here to be able to override the default hidden behavior on the sphinx rendered scikit-learn.org. See: https://github.com/scikit-learn/scikit-learn/issues/21755 */display: inline-block !important;position: relative;}#sk-container-id-1 div.sk-text-repr-fallback {display: none;}</style><div id=\"sk-container-id-1\" class=\"sk-top-container\"><div class=\"sk-text-repr-fallback\"><pre>GridSearchCV(cv=5, estimator=LogisticRegression(), n_jobs=-1,\n",
              "             param_grid={&#x27;C&#x27;: [0, 0.001, 0.005, 0.01, 0.1, 0.5, 1],\n",
              "                         &#x27;penalty&#x27;: [&#x27;l1&#x27;, &#x27;l2&#x27;], &#x27;random_state&#x27;: [47],\n",
              "                         &#x27;solver&#x27;: [&#x27;lbfgs&#x27;, &#x27;liblinear&#x27;, &#x27;newton-cg&#x27;,\n",
              "                                    &#x27;newton-cholesky&#x27;, &#x27;sag&#x27;, &#x27;saga&#x27;]})</pre><b>In a Jupyter environment, please rerun this cell to show the HTML representation or trust the notebook. <br />On GitHub, the HTML representation is unable to render, please try loading this page with nbviewer.org.</b></div><div class=\"sk-container\" hidden><div class=\"sk-item sk-dashed-wrapped\"><div class=\"sk-label-container\"><div class=\"sk-label sk-toggleable\"><input class=\"sk-toggleable__control sk-hidden--visually\" id=\"sk-estimator-id-1\" type=\"checkbox\" ><label for=\"sk-estimator-id-1\" class=\"sk-toggleable__label sk-toggleable__label-arrow\">GridSearchCV</label><div class=\"sk-toggleable__content\"><pre>GridSearchCV(cv=5, estimator=LogisticRegression(), n_jobs=-1,\n",
              "             param_grid={&#x27;C&#x27;: [0, 0.001, 0.005, 0.01, 0.1, 0.5, 1],\n",
              "                         &#x27;penalty&#x27;: [&#x27;l1&#x27;, &#x27;l2&#x27;], &#x27;random_state&#x27;: [47],\n",
              "                         &#x27;solver&#x27;: [&#x27;lbfgs&#x27;, &#x27;liblinear&#x27;, &#x27;newton-cg&#x27;,\n",
              "                                    &#x27;newton-cholesky&#x27;, &#x27;sag&#x27;, &#x27;saga&#x27;]})</pre></div></div></div><div class=\"sk-parallel\"><div class=\"sk-parallel-item\"><div class=\"sk-item\"><div class=\"sk-label-container\"><div class=\"sk-label sk-toggleable\"><input class=\"sk-toggleable__control sk-hidden--visually\" id=\"sk-estimator-id-2\" type=\"checkbox\" ><label for=\"sk-estimator-id-2\" class=\"sk-toggleable__label sk-toggleable__label-arrow\">estimator: LogisticRegression</label><div class=\"sk-toggleable__content\"><pre>LogisticRegression()</pre></div></div></div><div class=\"sk-serial\"><div class=\"sk-item\"><div class=\"sk-estimator sk-toggleable\"><input class=\"sk-toggleable__control sk-hidden--visually\" id=\"sk-estimator-id-3\" type=\"checkbox\" ><label for=\"sk-estimator-id-3\" class=\"sk-toggleable__label sk-toggleable__label-arrow\">LogisticRegression</label><div class=\"sk-toggleable__content\"><pre>LogisticRegression()</pre></div></div></div></div></div></div></div></div></div></div>"
            ],
            "text/plain": [
              "GridSearchCV(cv=5, estimator=LogisticRegression(), n_jobs=-1,\n",
              "             param_grid={'C': [0, 0.001, 0.005, 0.01, 0.1, 0.5, 1],\n",
              "                         'penalty': ['l1', 'l2'], 'random_state': [47],\n",
              "                         'solver': ['lbfgs', 'liblinear', 'newton-cg',\n",
              "                                    'newton-cholesky', 'sag', 'saga']})"
            ]
          },
          "execution_count": 39,
          "metadata": {},
          "output_type": "execute_result"
        }
      ],
      "source": [
        "lr = LogisticRegression()\n",
        "\n",
        "params = {'penalty': ['l1','l2'],\n",
        "              'C' : [0, 0.001, 0.005, 0.01, 0.1, 0.5, 1],\n",
        "              'solver' : ['lbfgs', 'liblinear', 'newton-cg', 'newton-cholesky', 'sag', 'saga'],\n",
        "              'random_state': [47]\n",
        "              }\n",
        "\n",
        "grid_search_lr = GridSearchCV(estimator=lr, param_grid=params, n_jobs=-1, cv=5)\n",
        "grid_search_lr.fit(X_train, y_train)"
      ]
    },
    {
      "cell_type": "code",
      "execution_count": 40,
      "metadata": {},
      "outputs": [],
      "source": [
        "with open('LogisticRegression.bin', 'wb') as f_out:\n",
        "    pickle.dump((dv, grid_search_lr), f_out)"
      ]
    },
    {
      "cell_type": "code",
      "execution_count": 41,
      "metadata": {},
      "outputs": [
        {
          "name": "stdout",
          "output_type": "stream",
          "text": [
            "Best parameters: {'C': 0.1, 'penalty': 'l2', 'random_state': 47, 'solver': 'lbfgs'}\n",
            "Best score: 0.6921454228882714\n"
          ]
        }
      ],
      "source": [
        "best_params = grid_search_lr.best_params_\n",
        "best_score = grid_search_lr.best_score_\n",
        "\n",
        "print(f\"Best parameters: {best_params}\")\n",
        "print(f\"Best score: {best_score}\")"
      ]
    },
    {
      "cell_type": "markdown",
      "metadata": {},
      "source": [
        "Validation Score\n",
        "\n"
      ]
    },
    {
      "cell_type": "code",
      "execution_count": 42,
      "metadata": {},
      "outputs": [
        {
          "data": {
            "text/plain": [
              "0.6958776958776959"
            ]
          },
          "execution_count": 42,
          "metadata": {},
          "output_type": "execute_result"
        }
      ],
      "source": [
        "val_dicts = df_val.to_dict(orient='records')\n",
        "X_val = dv.transform(val_dicts)\n",
        "y_pred = grid_search_lr.predict(X_val)\n",
        "lr_accutacy_score = accuracy_score(y_val, y_pred)\n",
        "lr_accutacy_score"
      ]
    },
    {
      "cell_type": "code",
      "execution_count": 43,
      "metadata": {},
      "outputs": [
        {
          "data": {
            "text/plain": [
              "array([[ 170,    0,    0],\n",
              "       [  34, 1301,  487],\n",
              "       [  14,  579, 1078]], dtype=int64)"
            ]
          },
          "execution_count": 43,
          "metadata": {},
          "output_type": "execute_result"
        }
      ],
      "source": [
        "lr_confusion_matrix = confusion_matrix(y_val, y_pred)\n",
        "lr_confusion_matrix"
      ]
    },
    {
      "cell_type": "code",
      "execution_count": 44,
      "metadata": {},
      "outputs": [
        {
          "name": "stdout",
          "output_type": "stream",
          "text": [
            "              precision    recall  f1-score   support\n",
            "\n",
            "          -1       0.78      1.00      0.88       170\n",
            "           0       0.69      0.71      0.70      1822\n",
            "           1       0.69      0.65      0.67      1671\n",
            "\n",
            "    accuracy                           0.70      3663\n",
            "   macro avg       0.72      0.79      0.75      3663\n",
            "weighted avg       0.69      0.70      0.69      3663\n",
            "\n"
          ]
        }
      ],
      "source": [
        "lr_classification_report = classification_report(y_val, y_pred)\n",
        "print(lr_classification_report)"
      ]
    },
    {
      "cell_type": "markdown",
      "metadata": {},
      "source": [
        "Model Selection"
      ]
    },
    {
      "cell_type": "markdown",
      "metadata": {},
      "source": [
        "Accuracy\n",
        "\n",
        "Let's take a look at the accurary of each model"
      ]
    },
    {
      "cell_type": "code",
      "execution_count": 45,
      "metadata": {},
      "outputs": [],
      "source": [
        "dict_accuracy_scores = {\n",
        "    'model':['LogisticRegression', \n",
        "             'DecisionTreeClassifier'],\n",
        "    'accuracy_score' : [lr_accutacy_score,\n",
        "                        dt_accuracy_score]}"
      ]
    },
    {
      "cell_type": "code",
      "execution_count": 46,
      "metadata": {},
      "outputs": [
        {
          "data": {
            "text/html": [
              "<div>\n",
              "<style scoped>\n",
              "    .dataframe tbody tr th:only-of-type {\n",
              "        vertical-align: middle;\n",
              "    }\n",
              "\n",
              "    .dataframe tbody tr th {\n",
              "        vertical-align: top;\n",
              "    }\n",
              "\n",
              "    .dataframe thead th {\n",
              "        text-align: right;\n",
              "    }\n",
              "</style>\n",
              "<table border=\"1\" class=\"dataframe\">\n",
              "  <thead>\n",
              "    <tr style=\"text-align: right;\">\n",
              "      <th></th>\n",
              "      <th>model</th>\n",
              "      <th>accuracy_score</th>\n",
              "    </tr>\n",
              "  </thead>\n",
              "  <tbody>\n",
              "    <tr>\n",
              "      <th>1</th>\n",
              "      <td>DecisionTreeClassifier</td>\n",
              "      <td>0.831013</td>\n",
              "    </tr>\n",
              "    <tr>\n",
              "      <th>0</th>\n",
              "      <td>LogisticRegression</td>\n",
              "      <td>0.695878</td>\n",
              "    </tr>\n",
              "  </tbody>\n",
              "</table>\n",
              "</div>"
            ],
            "text/plain": [
              "                    model  accuracy_score\n",
              "1  DecisionTreeClassifier        0.831013\n",
              "0      LogisticRegression        0.695878"
            ]
          },
          "execution_count": 46,
          "metadata": {},
          "output_type": "execute_result"
        }
      ],
      "source": [
        "columns = {0:'model', 1:'accuracy_score'}\n",
        "\n",
        "df_accuracy_scores = pd.DataFrame.from_dict(dict_accuracy_scores)\n",
        "df_accuracy_scores.sort_values('accuracy_score', ascending=False)"
      ]
    },
    {
      "cell_type": "markdown",
      "metadata": {
        "id": "mOwpSGIW7QWv"
      },
      "source": [
        "### Fairness\n",
        "\n",
        "Fairness constraints\n",
        "\n",
        "Fairness constraints in the context of machine learning refer to predefined rules or conditions that are imposed to ensure that the model's predictions or decisions do not lead to unfair or discriminatory outcomes across different groups or individuals. These constraints are designed to promote fairness, mitigate biases, and ensure that the model treats all individuals or groups equitably. Here are key considerations related to fairness constraints:\n",
        "\n",
        "- Definition of Fairness\n",
        "- Bias Mitigation Techniques\n",
        "- Explainability and Transparency\n",
        "- Legal and Ethical Considerations"
      ]
    },
    {
      "cell_type": "markdown",
      "metadata": {
        "id": "AYzFOyp97Wq3"
      },
      "source": [
        "### Privacy\n",
        "\n",
        "Differential Privacy\n",
        "\n",
        "Differential privacy is a mathematical framework for ensuring the privacy of individuals in datasets. It can provide a strong guarantee of privacy by allowing data to be analyzed without revealing sensitive information about any individual in the dataset.\n",
        "\n",
        "- One of the most commonly used mechanisms to answer numerical questions is the addition of calibrated noise: adding enough noise to the output to mask the contribution of any possible individual in the data while still preserving the overall accuracy of the analysis. One concrete example of adding noise for differential privacy is the Laplace mechanism."
      ]
    },
    {
      "cell_type": "code",
      "execution_count": 47,
      "metadata": {
        "colab": {
          "base_uri": "https://localhost:8080/"
        },
        "id": "BWta9uqh7XAx",
        "outputId": "78922aba-c1a8-4532-c84b-765fb94d560b"
      },
      "outputs": [
        {
          "name": "stdout",
          "output_type": "stream",
          "text": [
            "Original Mean: 14.056956880444542\n",
            "Noisy Mean (Differentially Private): 14.174167355302512\n"
          ]
        }
      ],
      "source": [
        "import numpy as np\n",
        "\n",
        "def laplace_mechanism(data, epsilon):\n",
        "    # Compute the sensitivity (maximum change in output when adding/removing a single data point)\n",
        "    sensitivity = 1  # For simplicity, assuming sensitivity of 1\n",
        "\n",
        "    # Generate Laplace noise\n",
        "    laplace_noise = np.random.laplace(0, sensitivity / epsilon, len(data))\n",
        "\n",
        "    # Compute the noisy mean\n",
        "    noisy_mean = np.mean(data) + np.mean(laplace_noise)\n",
        "\n",
        "    return noisy_mean\n",
        "\n",
        "# Ensure that the dataset is a list of numerical values or can be easily converted to such a format for this specific example.\n",
        "# Example non-numeric dataset\n",
        "# data = not_numeric_dataset\n",
        "\n",
        "\n",
        "# Convert the non-numeric dataset to a list of floats\n",
        "# your_numeric_dataset = [float(value) for value in your_non_numeric_dataset]\n",
        "data = data_class\n",
        "\n",
        "# Set the privacy parameter (epsilon)\n",
        "epsilon = 0.1\n",
        "\n",
        "# Apply Laplace mechanism to compute differentially private mean\n",
        "noisy_mean = laplace_mechanism(data, epsilon)\n",
        "\n",
        "# Print results\n",
        "print(f\"Original Mean: {np.mean(data)}\")\n",
        "print(f\"Noisy Mean (Differentially Private): {noisy_mean}\")\n"
      ]
    },
    {
      "cell_type": "code",
      "execution_count": null,
      "metadata": {
        "id": "EUR6rN1B7bjK"
      },
      "outputs": [],
      "source": []
    }
  ],
  "metadata": {
    "colab": {
      "provenance": []
    },
    "kernelspec": {
      "display_name": "Python 3",
      "name": "python3"
    },
    "language_info": {
      "codemirror_mode": {
        "name": "ipython",
        "version": 3
      },
      "file_extension": ".py",
      "mimetype": "text/x-python",
      "name": "python",
      "nbconvert_exporter": "python",
      "pygments_lexer": "ipython3",
      "version": "3.10.5"
    }
  },
  "nbformat": 4,
  "nbformat_minor": 0
}
