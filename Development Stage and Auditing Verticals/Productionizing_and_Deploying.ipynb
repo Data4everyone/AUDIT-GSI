{
  "nbformat": 4,
  "nbformat_minor": 0,
  "metadata": {
    "colab": {
      "provenance": []
    },
    "kernelspec": {
      "name": "python3",
      "display_name": "Python 3"
    },
    "language_info": {
      "name": "python"
    }
  },
  "cells": [
    {
      "cell_type": "markdown",
      "source": [
        "#### Kaggle Dataset\n",
        "\n",
        " \"https://www.kaggle.com/datasets/danofer/compass/data\""
      ],
      "metadata": {
        "id": "TyphMUwQESes"
      }
    },
    {
      "cell_type": "markdown",
      "source": [
        "### Tools\n",
        "\n",
        "This notebook is self-contained, but it requires some python libraries. To install them, simply run the following line:"
      ],
      "metadata": {
        "id": "OcwISF6COkvi"
      }
    },
    {
      "cell_type": "code",
      "source": [
        "# Install a pip package in the current Jupyter kernel.\n",
        "import sys\n",
        "import site\n",
        "import os\n",
        "#usersite = site.getusersitepackages()\n",
        "#if usersite not in sys.path:\n",
        "#    sys.path.append(usersite)\n",
        "#!{sys.executable} -m pip install --user -r requirements.txt"
      ],
      "metadata": {
        "id": "1QwbIDMOObKq"
      },
      "execution_count": null,
      "outputs": []
    },
    {
      "cell_type": "code",
      "source": [
        "pip install shap"
      ],
      "metadata": {
        "colab": {
          "base_uri": "https://localhost:8080/"
        },
        "id": "Id6TtyQLIfLw",
        "outputId": "efb38e42-b461-4131-db3d-0f0ceaf16d6c"
      },
      "execution_count": null,
      "outputs": [
        {
          "output_type": "stream",
          "name": "stdout",
          "text": [
            "Collecting shap\n",
            "  Downloading shap-0.43.0-cp310-cp310-manylinux_2_12_x86_64.manylinux2010_x86_64.manylinux_2_17_x86_64.manylinux2014_x86_64.whl (532 kB)\n",
            "\u001b[?25l     \u001b[90m━━━━━━━━━━━━━━━━━━━━━━━━━━━━━━━━━━━━━━━━\u001b[0m \u001b[32m0.0/532.9 kB\u001b[0m \u001b[31m?\u001b[0m eta \u001b[36m-:--:--\u001b[0m\r\u001b[2K     \u001b[91m━━━━━━━━━\u001b[0m\u001b[90m╺\u001b[0m\u001b[90m━━━━━━━━━━━━━━━━━━━━━━━━━━━━━━\u001b[0m \u001b[32m122.9/532.9 kB\u001b[0m \u001b[31m3.4 MB/s\u001b[0m eta \u001b[36m0:00:01\u001b[0m\r\u001b[2K     \u001b[90m━━━━━━━━━━━━━━━━━━━━━━━━━━━━━━━━━━━━━━━━\u001b[0m \u001b[32m532.9/532.9 kB\u001b[0m \u001b[31m9.1 MB/s\u001b[0m eta \u001b[36m0:00:00\u001b[0m\n",
            "\u001b[?25hRequirement already satisfied: numpy in /usr/local/lib/python3.10/dist-packages (from shap) (1.23.5)\n",
            "Requirement already satisfied: scipy in /usr/local/lib/python3.10/dist-packages (from shap) (1.11.3)\n",
            "Requirement already satisfied: scikit-learn in /usr/local/lib/python3.10/dist-packages (from shap) (1.2.2)\n",
            "Requirement already satisfied: pandas in /usr/local/lib/python3.10/dist-packages (from shap) (1.5.3)\n",
            "Requirement already satisfied: tqdm>=4.27.0 in /usr/local/lib/python3.10/dist-packages (from shap) (4.66.1)\n",
            "Requirement already satisfied: packaging>20.9 in /usr/local/lib/python3.10/dist-packages (from shap) (23.2)\n",
            "Collecting slicer==0.0.7 (from shap)\n",
            "  Downloading slicer-0.0.7-py3-none-any.whl (14 kB)\n",
            "Requirement already satisfied: numba in /usr/local/lib/python3.10/dist-packages (from shap) (0.58.1)\n",
            "Requirement already satisfied: cloudpickle in /usr/local/lib/python3.10/dist-packages (from shap) (2.2.1)\n",
            "Requirement already satisfied: llvmlite<0.42,>=0.41.0dev0 in /usr/local/lib/python3.10/dist-packages (from numba->shap) (0.41.1)\n",
            "Requirement already satisfied: python-dateutil>=2.8.1 in /usr/local/lib/python3.10/dist-packages (from pandas->shap) (2.8.2)\n",
            "Requirement already satisfied: pytz>=2020.1 in /usr/local/lib/python3.10/dist-packages (from pandas->shap) (2023.3.post1)\n",
            "Requirement already satisfied: joblib>=1.1.1 in /usr/local/lib/python3.10/dist-packages (from scikit-learn->shap) (1.3.2)\n",
            "Requirement already satisfied: threadpoolctl>=2.0.0 in /usr/local/lib/python3.10/dist-packages (from scikit-learn->shap) (3.2.0)\n",
            "Requirement already satisfied: six>=1.5 in /usr/local/lib/python3.10/dist-packages (from python-dateutil>=2.8.1->pandas->shap) (1.16.0)\n",
            "Installing collected packages: slicer, shap\n",
            "Successfully installed shap-0.43.0 slicer-0.0.7\n"
          ]
        }
      ]
    },
    {
      "cell_type": "markdown",
      "source": [
        "# Libraries"
      ],
      "metadata": {
        "id": "aAx9NbE_On0a"
      }
    },
    {
      "cell_type": "code",
      "execution_count": null,
      "metadata": {
        "id": "ZwxDUfOpjf-t"
      },
      "outputs": [],
      "source": [
        "import numpy as np\n",
        "import pandas as pd\n",
        "import seaborn as sns\n",
        "import matplotlib.pyplot as plt\n",
        "import shap\n",
        "import gc\n",
        "from sklearn.model_selection import train_test_split\n",
        "from sklearn.tree import DecisionTreeClassifier\n",
        "from sklearn.metrics import accuracy_score, classification_report, confusion_matrix\n",
        "sns.set_theme(color_codes=True)\n",
        "pd.set_option('display.max_columns', None)\n",
        "import warnings\n",
        "warnings.filterwarnings(action='ignore')"
      ]
    },
    {
      "cell_type": "markdown",
      "source": [
        "# Productionizing and Deploying"
      ],
      "metadata": {
        "id": "B9esNBpmOwBA"
      }
    },
    {
      "cell_type": "markdown",
      "source": [
        "### Explainability\n",
        "\n",
        "Interface and documentation"
      ],
      "metadata": {
        "id": "QOpR7yL_OyFm"
      }
    },
    {
      "cell_type": "markdown",
      "source": [
        "### Robustness\n",
        "\n",
        "Concept drift detection and continuous integration"
      ],
      "metadata": {
        "id": "UoULDwATO2QG"
      }
    },
    {
      "cell_type": "markdown",
      "source": [
        "### Fairness\n",
        "\n",
        "Real-time monitoring of bias metrics\n"
      ],
      "metadata": {
        "id": "gDUTpjKr_FNn"
      }
    },
    {
      "cell_type": "markdown",
      "source": [
        "### Privacy\n",
        "\n",
        "Rate-limiting and user’s queries management\n",
        "\n",
        "\n"
      ],
      "metadata": {
        "id": "wXXdIzNZ_LIL"
      }
    },
    {
      "cell_type": "code",
      "source": [],
      "metadata": {
        "id": "X_s-jDMR_GSY"
      },
      "execution_count": null,
      "outputs": []
    }
  ]
}